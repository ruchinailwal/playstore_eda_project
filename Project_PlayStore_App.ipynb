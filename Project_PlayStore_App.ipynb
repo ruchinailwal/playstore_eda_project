{
  "nbformat": 4,
  "nbformat_minor": 0,
  "metadata": {
    "colab": {
      "private_outputs": true,
      "provenance": []
    },
    "kernelspec": {
      "name": "python3",
      "display_name": "Python 3"
    },
    "language_info": {
      "name": "python"
    }
  },
  "cells": [
    {
      "cell_type": "markdown",
      "source": [
        "# **Play Store App Review Analysis**\n",
        "\n"
      ],
      "metadata": {
        "id": "vncDsAP0Gaoa"
      }
    },
    {
      "cell_type": "markdown",
      "source": [
        "##### **Project Type**    - EDA\n",
        "##### **Contribution**    - Individual\n"
      ],
      "metadata": {
        "id": "beRrZCGUAJYm"
      }
    },
    {
      "cell_type": "markdown",
      "source": [
        "# **Project Summary -**"
      ],
      "metadata": {
        "id": "FJNUwmbgGyua"
      }
    },
    {
      "cell_type": "markdown",
      "source": [
        "#### **1. Introduction and Objective**\n",
        "\n",
        "The Google Play Store is a rapidly evolving and competitive digital marketplace, where app developers constantly strive to maintain performance, relevance, and user satisfaction. This project aims to conduct a comprehensive analysis of Play Store app data and user reviews to uncover key trends, identify growth opportunities, and generate actionable insights. The ultimate objective is to empower developers with data-driven strategies for optimizing app quality, improving user experience, and enhancing market performance.\n",
        "\n",
        "#### **2. Dataset Overview**\n",
        "\n",
        "The analysis is based on two publicly available datasets:\n",
        "\n",
        "* **App Dataset**: Includes 10,358 entries with information such as app name, category, rating, number of reviews, size, installs, type (free or paid), price, and last update date.\n",
        "* **User Review Dataset**: Comprises 29,644 translated user reviews, each labeled with sentiment (Positive, Neutral, Negative), along with polarity and subjectivity scores.\n",
        "\n",
        "#### **3. Data Cleaning and Preprocessing**\n",
        "\n",
        "To ensure high data quality and meaningful analysis, extensive preprocessing was performed:\n",
        "\n",
        "* **Type Conversion**: Columns such as `Reviews`, `Installs`, `Size`, `Price`, and `Last Updated` were converted into appropriate numeric or datetime formats.\n",
        "* **Missing Values**:\n",
        "\n",
        "  * In the app dataset, missing values were filled using the **median** (for numerical columns like `Size` and `Rating`) and **mode** (for categorical columns like `Type` and `Android Ver`). Missing entries in `Current Ver` were filled with a placeholder like \"Unknown.\"\n",
        "  * In the review dataset, rows with missing `Translated_Review` values were removed.\n",
        "* **Normalization**: Non-numeric characters (e.g., “+”, “M”, “\\$”) were removed from numerical fields to enable analysis.\n",
        "* **Formatting**: The `Android Ver` column was cleaned to ensure consistency in formatting for compatibility analysis.\n",
        "\n",
        "#### **4. Exploratory Data Analysis (EDA)**\n",
        "\n",
        "The EDA uncovered several important trends:\n",
        "\n",
        "* **Ratings**: The majority of apps have ratings above 4.0, indicating strong user satisfaction. Apps below 3.5 suggest areas needing improvement.\n",
        "* **Category Trends**: Categories such as \"FAMILY\", \"GAME\", and \"TOOLS\" dominate the app store. Niche segments like \"BEAUTY\" and \"COMICS\" show potential for market expansion.\n",
        "* **Free vs. Paid Apps**: Free apps constitute 92.6% of the total. Although fewer in number, paid apps tend to receive slightly higher average ratings, indicating better perceived value.\n",
        "* **Review Distribution**: A small number of apps garner the vast majority of reviews, reflecting strong brand recognition and user engagement.\n",
        "\n",
        "#### **5. Sentiment Analysis**\n",
        "\n",
        "User reviews were analyzed for sentiment to gauge user perceptions:\n",
        "\n",
        "* **Sentiment Distribution**: 58% of reviews are positive, 26% neutral, and 16% negative, suggesting overall satisfaction with available apps.\n",
        "* **Polarity & Subjectivity**: Sentiment polarity trends positive, while a mix of subjective and objective reviews provides developers with both emotional and actionable insights.\n",
        "\n",
        "#### **6. Key Insights**\n",
        "\n",
        "* Apps sized between **10–50MB** with ratings above 4.0 are more likely to be highly downloaded and positively reviewed.\n",
        "* Categories like **\"GAME\"** and **\"COMMUNICATION\"** show high engagement and revenue potential.\n",
        "* Underrepresented segments like **\"BEAUTY\"** offer opportunities for differentiation and niche targeting.\n",
        "* **Paid apps**, though less common, demonstrate greater user satisfaction compared to free apps.\n",
        "\n",
        "#### **7. Business Implications**\n",
        "\n",
        "Based on the findings, the following strategies are recommended for developers:\n",
        "\n",
        "* **Improve Low-Rated Apps**: Focus on enhancing functionality and user experience for apps with ratings below 4.0.\n",
        "* **Invest Strategically**: Prioritize high-growth categories such as \"GAME\" and \"FAMILY,\" while also tapping into underserved niches.\n",
        "* **Adopt a Freemium Model**: Offer core functionality for free, with optional in-app purchases or upgrades to increase both reach and revenue.\n",
        "* **Foster User Engagement**: Encourage reviews and respond to feedback, especially negative ones, to build a strong public image and improve app ratings.\n",
        "\n",
        "#### **8. Conclusion**\n",
        "\n",
        "This project delivers valuable insights into app performance, user preferences, and market opportunities within the Google Play Store. Through rigorous data analysis and sentiment evaluation, developers are equipped with practical recommendations to enhance app quality, align with user expectations, and capitalize on emerging market trends. The study lays a solid foundation for continuous improvement, strategic planning, and data-driven innovation in the mobile app ecosystem.\n",
        "\n"
      ],
      "metadata": {
        "id": "nxL3v7Nqd1Lb"
      }
    },
    {
      "cell_type": "markdown",
      "source": [
        "# **GitHub Link -**"
      ],
      "metadata": {
        "id": "w6K7xa23Elo4"
      }
    },
    {
      "cell_type": "markdown",
      "source": [
        "https://github.com/ruchinailwal"
      ],
      "metadata": {
        "id": "h1o69JH3Eqqn"
      }
    },
    {
      "cell_type": "markdown",
      "source": [
        "# **Problem Statement**\n"
      ],
      "metadata": {
        "id": "yQaldy8SH6Dl"
      }
    },
    {
      "cell_type": "markdown",
      "source": [
        "In a highly competitive Play Store environment, many apps struggle to achieve high downloads, positive ratings, and user satisfaction. Despite the availability of rich app and review data, developers often lack clear insights into the factors driving app success.\n",
        "This project aims to explore and analyze Play Store app features and customer reviews to identify the key drivers of user engagement and app performance, helping developers make informed, data-driven decisions."
      ],
      "metadata": {
        "id": "DpeJGUA3kjGy"
      }
    },
    {
      "cell_type": "markdown",
      "source": [
        "#### **Define Your Business Objective?**"
      ],
      "metadata": {
        "id": "PH-0ReGfmX4f"
      }
    },
    {
      "cell_type": "markdown",
      "source": [
        "The objective of this project is to explore and analyze Play Store app data and user reviews to identify key factors that drive app success and user engagement. By examining app features like category, size, price, and user sentiments, the project aims to uncover actionable insights that can help developers improve app quality, enhance user satisfaction, and achieve better market performance.\n",
        "\n"
      ],
      "metadata": {
        "id": "PhDvGCAqmjP1"
      }
    },
    {
      "cell_type": "markdown",
      "source": [
        "### Import Libraries"
      ],
      "metadata": {
        "id": "Y3lxredqlCYt"
      }
    },
    {
      "cell_type": "code",
      "source": [
        "# Import Libraries\n",
        "import numpy as np\n",
        "import pandas as pd\n",
        "import matplotlib.pyplot as plt\n",
        "import seaborn as sns"
      ],
      "metadata": {
        "id": "M8Vqi-pPk-HR"
      },
      "execution_count": null,
      "outputs": []
    },
    {
      "cell_type": "markdown",
      "source": [
        "### Dataset Loading"
      ],
      "metadata": {
        "id": "3RnN4peoiCZX"
      }
    },
    {
      "cell_type": "code",
      "source": [
        "# Load Dataset\n",
        "df1=pd.read_csv(\"Play Store Data.csv\")  #load Play Store data\n",
        "df2=pd.read_csv(\"User Reviews.csv\")     #load User Reviews data"
      ],
      "metadata": {
        "id": "4CkvbW_SlZ_R"
      },
      "execution_count": null,
      "outputs": []
    },
    {
      "cell_type": "markdown",
      "source": [
        "#   **Play Store Data**"
      ],
      "metadata": {
        "id": "voYmcTVaLCqt"
      }
    },
    {
      "cell_type": "markdown",
      "source": [
        "## ***1. Know Your Data***"
      ],
      "metadata": {
        "id": "FBT9SEUXLRDK"
      }
    },
    {
      "cell_type": "markdown",
      "source": [
        "### handling duplicates"
      ],
      "metadata": {
        "id": "hmuPXp8F1X0s"
      }
    },
    {
      "cell_type": "code",
      "source": [
        "# Drop exact duplicates\n",
        "df1.drop_duplicates(inplace=True)\n",
        "#Reset index for neatness\n",
        "df1.reset_index(drop=True, inplace=True)"
      ],
      "metadata": {
        "id": "xe7UPm6Q1ZbU"
      },
      "execution_count": null,
      "outputs": []
    },
    {
      "cell_type": "markdown",
      "source": [
        "### Dataset First View"
      ],
      "metadata": {
        "id": "x71ZqKXriCWQ"
      }
    },
    {
      "cell_type": "code",
      "source": [
        "# Dataset First Look\n",
        "df1"
      ],
      "metadata": {
        "id": "LWNFOSvLl09H"
      },
      "execution_count": null,
      "outputs": []
    },
    {
      "cell_type": "markdown",
      "source": [
        "### Dataset Rows & Columns count"
      ],
      "metadata": {
        "id": "7hBIi_osiCS2"
      }
    },
    {
      "cell_type": "code",
      "source": [
        "# Dataset Rows & Columns count\n",
        "df1.shape"
      ],
      "metadata": {
        "id": "Kllu7SJgmLij"
      },
      "execution_count": null,
      "outputs": []
    },
    {
      "cell_type": "markdown",
      "source": [
        "### Dataset Information"
      ],
      "metadata": {
        "id": "JlHwYmJAmNHm"
      }
    },
    {
      "cell_type": "code",
      "source": [
        "# Dataset Info\n",
        "df1.info()"
      ],
      "metadata": {
        "id": "e9hRXRi6meOf",
        "collapsed": true
      },
      "execution_count": null,
      "outputs": []
    },
    {
      "cell_type": "markdown",
      "source": [
        "### Duplicate Values"
      ],
      "metadata": {
        "id": "35m5QtbWiB9F"
      }
    },
    {
      "cell_type": "code",
      "source": [
        "# Dataset Duplicate Value Count\n",
        "df1.duplicated().sum()"
      ],
      "metadata": {
        "id": "1sLdpKYkmox0"
      },
      "execution_count": null,
      "outputs": []
    },
    {
      "cell_type": "markdown",
      "source": [
        "### Missing Values/Null Values"
      ],
      "metadata": {
        "id": "PoPl-ycgm1ru"
      }
    },
    {
      "cell_type": "code",
      "source": [
        "# Missing Values/Null Values Count\n",
        "df1.isnull().sum()"
      ],
      "metadata": {
        "id": "GgHWkxvamxVg",
        "collapsed": true
      },
      "execution_count": null,
      "outputs": []
    },
    {
      "cell_type": "code",
      "source": [
        "# Visualizing the missing values\n",
        "\n",
        "missing_data = df1.isnull() # create a dataframe of missing values\n",
        "plt.figure(figsize=(10, 6)) # set figure size\n",
        "sns.heatmap(missing_data, cbar=False, cmap=\"viridis\", yticklabels=False) #plot the heatmap\n",
        "plt.title(\"Missing Values Heatmap\") #add title\n",
        "plt.show()"
      ],
      "metadata": {
        "id": "917l-wmC-Mr9",
        "collapsed": true
      },
      "execution_count": null,
      "outputs": []
    },
    {
      "cell_type": "markdown",
      "source": [
        "### What did you know about your dataset?"
      ],
      "metadata": {
        "id": "H0kj-8xxnORC"
      }
    },
    {
      "cell_type": "markdown",
      "source": [
        "The Playstore dataset consists of 10,358 rows and 13 columns, with the following key details:\n",
        "\n",
        "1. **Data Types:**\n",
        "\n",
        "* 1 column contains numerical data of type float64 (e.g., Ratings).\n",
        "* 12 columns are of type object, representing categorical or textual information.\n",
        "\n",
        "2. **Duplicate Rows:**\n",
        "\n",
        "* Duplicate entries have already been addressed, ensuring no duplicates remain in the dataset.\n",
        "\n",
        "3. **Missing Values:**\n",
        "\n",
        "Missing data is present in the following columns:\n",
        "* Ratings: 1,465 missing values.\n",
        "* Type: 1 missing value.\n",
        "* Content Rating: 1 missing value.\n",
        "* Current Ver: 8 missing values.\n",
        "* Android Ver: 3 missing values."
      ],
      "metadata": {
        "id": "ymv9vVlkr0W8"
      }
    },
    {
      "cell_type": "markdown",
      "source": [
        "## ***2. Understanding Your Variables***"
      ],
      "metadata": {
        "id": "nA9Y7ga8ng1Z"
      }
    },
    {
      "cell_type": "code",
      "source": [
        "# Dataset Columns\n",
        "df1.columns"
      ],
      "metadata": {
        "id": "j7xfkqrt5Ag5"
      },
      "execution_count": null,
      "outputs": []
    },
    {
      "cell_type": "code",
      "source": [
        "# Dataset Describe\n",
        "df1.describe()"
      ],
      "metadata": {
        "id": "DnOaZdaE5Q5t"
      },
      "execution_count": null,
      "outputs": []
    },
    {
      "cell_type": "markdown",
      "source": [
        "### Variables Description"
      ],
      "metadata": {
        "id": "PBTbrJXOngz2"
      }
    },
    {
      "cell_type": "markdown",
      "source": [
        "1. **`App`**: The name of the application (e.g., Instagram, Facebook), used to uniquely identify each app.\n",
        "2. **`Category`**: The category to which the app belongs (e.g., Education, Game, Lifestyle), representing its primary functionality.\n",
        "3. **`Rating`**: The average user rating for the app, ranging from 1 (lowest) to 5 (highest), indicating user satisfaction.\n",
        "4. **`Reviews`**: The total number of user reviews for the app, reflecting user engagement.\n",
        "5. **`Size`**: The size of the app (in MB or KB), showing its storage requirement.\n",
        "6. **`Installs`**: The number of times the app has been downloaded, indicating its popularity.\n",
        "7. **`Type`**: Indicates whether the app is **Free** or **Paid**, representing its pricing model.\n",
        "8. **`Price`**: The cost of the app (in USD), where 0 indicates free apps.\n",
        "9. **`Content Rating`**: The recommended age group for the app (e.g., Everyone, Teen, Mature), showing its suitability for different audiences.\n",
        "10. **`Genres`**: The detailed genre(s) of the app (e.g., Puzzle, Action, Social), providing additional categorization.\n",
        "11. **`Last Updated`**: The date when the app was last updated, reflecting developer activity and app maintenance.\n",
        "12. **`Current Ver`**: The current version of the app, showing its latest iteration.\n",
        "13. **`Android Ver`**: The minimum Android version required to run the app, ensuring device compatibility.\n"
      ],
      "metadata": {
        "id": "aJV4KIxSnxay"
      }
    },
    {
      "cell_type": "markdown",
      "source": [
        "### Check Unique Values for each variable."
      ],
      "metadata": {
        "id": "u3PMJOP6ngxN"
      }
    },
    {
      "cell_type": "code",
      "source": [
        "# Check Unique Values for each variable.\n",
        "df1.nunique()"
      ],
      "metadata": {
        "id": "zms12Yq5n-jE",
        "collapsed": true
      },
      "execution_count": null,
      "outputs": []
    },
    {
      "cell_type": "code",
      "source": [
        "# Check Unique Values for each variable.\n",
        "columns_to_check = ['App','Category','Rating','Reviews','Size','Installs','Type','Price','Content Rating','Genres','Last Updated','Current Ver','Android Ver']\n",
        "\n",
        "for col in columns_to_check:\n",
        "    print(f\"\\nUnique values in '{col}':\")\n",
        "    print(df1[col].unique())\n"
      ],
      "metadata": {
        "id": "6qZWjt-C7UEu",
        "collapsed": true
      },
      "execution_count": null,
      "outputs": []
    },
    {
      "cell_type": "markdown",
      "source": [
        "## 3. ***Data Wrangling***"
      ],
      "metadata": {
        "id": "dauF4eBmngu3"
      }
    },
    {
      "cell_type": "markdown",
      "source": [
        "### Data Wrangling Code"
      ],
      "metadata": {
        "id": "bKJF3rekwFvQ"
      }
    },
    {
      "cell_type": "markdown",
      "source": [
        "###convert data type"
      ],
      "metadata": {
        "id": "ZjEejmFGEHTf"
      }
    },
    {
      "cell_type": "code",
      "source": [
        "# fetch data type of each column in df1\n",
        "df1.dtypes"
      ],
      "metadata": {
        "id": "-MGgaSkDItwR"
      },
      "execution_count": null,
      "outputs": []
    },
    {
      "cell_type": "code",
      "source": [
        "#Convert Reviews column to integer datatype\n",
        "\n",
        "def clean_reviews(val):\n",
        "    if 'M' in val:\n",
        "        return float(val.replace('M', '')) * 1_000_000\n",
        "    elif 'K' in val:\n",
        "        return float(val.replace('K', '')) * 1_000\n",
        "    elif val.isdigit():\n",
        "        return int(val)\n",
        "    else:\n",
        "        return np.nan\n",
        "\n",
        "df1['Reviews'] = df1['Reviews'].apply(clean_reviews).astype('Int64')"
      ],
      "metadata": {
        "id": "HXCL3qKaGQgZ"
      },
      "execution_count": null,
      "outputs": []
    },
    {
      "cell_type": "code",
      "source": [
        "#check data type of Reviews column\n",
        "df1['Reviews'].dtype"
      ],
      "metadata": {
        "id": "7X2lPXEgxlMV"
      },
      "execution_count": null,
      "outputs": []
    },
    {
      "cell_type": "code",
      "source": [
        "# Clean Installs column and convert to integer\n",
        "\n",
        "# Remove '+' and ',' characters\n",
        "df1['Installs'] = df1['Installs'].str.replace('[+,]', '', regex=True)\n",
        "\n",
        "# Remove any extra spaces\n",
        "df1['Installs'] = df1['Installs'].str.strip()\n",
        "\n",
        "# Convert to numeric (invalid entries become NaN)\n",
        "df1['Installs'] = pd.to_numeric(df1['Installs'], errors='coerce')\n",
        "\n",
        "# Drop rows with NaN in 'Installs' (caused by invalid entries)\n",
        "df1 = df1.dropna(subset=['Installs']).reset_index(drop=True)\n",
        "\n",
        "# Convert to integer\n",
        "df1['Installs'] = df1['Installs'].astype(int)"
      ],
      "metadata": {
        "id": "2sqRp-bExRqd"
      },
      "execution_count": null,
      "outputs": []
    },
    {
      "cell_type": "code",
      "source": [
        "# Check data type of Installs column\n",
        "print(df1['Installs'].dtype)  # Should be int64"
      ],
      "metadata": {
        "id": "AyUAtn5neiNz"
      },
      "execution_count": null,
      "outputs": []
    },
    {
      "cell_type": "code",
      "source": [
        "# Convert Last Updated to datetime\n",
        "df1['Last Updated'] = pd.to_datetime(df1['Last Updated'])"
      ],
      "metadata": {
        "id": "oIBuV4oeGQln"
      },
      "execution_count": null,
      "outputs": []
    },
    {
      "cell_type": "code",
      "source": [
        "# Check data type of Last Updated column\n",
        "df1['Last Updated'].dtype"
      ],
      "metadata": {
        "id": "u9vWtVIXx2ie"
      },
      "execution_count": null,
      "outputs": []
    },
    {
      "cell_type": "code",
      "source": [
        "# Clean Price: remove '$' and convert to float\n",
        "df1['Price'] = df1['Price'].str.replace('$', '').astype(float)"
      ],
      "metadata": {
        "id": "fu43Cg6YGQoM"
      },
      "execution_count": null,
      "outputs": []
    },
    {
      "cell_type": "code",
      "source": [
        "# Check data type of Price column\n",
        "df1['Price'].dtype"
      ],
      "metadata": {
        "id": "cs8jDex3yAkW"
      },
      "execution_count": null,
      "outputs": []
    },
    {
      "cell_type": "code",
      "source": [
        "# Clean Size and convert to float\n",
        "def size_to_mb(size):\n",
        "    if size == 'Varies with device':\n",
        "        return np.nan\n",
        "    elif 'M' in size:\n",
        "        return float(size.replace('M', ''))\n",
        "    elif 'k' in size:\n",
        "        return float(size.replace('k', '')) / 1024  # convert kB to MB\n",
        "    else:\n",
        "        return np.nan\n",
        "\n",
        "df1['Size'] = df1['Size'].apply(size_to_mb)"
      ],
      "metadata": {
        "id": "fwYJebhQGQrJ"
      },
      "execution_count": null,
      "outputs": []
    },
    {
      "cell_type": "code",
      "source": [
        "# Check data type of Size column\n",
        "df1['Size'].dtype"
      ],
      "metadata": {
        "id": "OrAEkfONyHNd"
      },
      "execution_count": null,
      "outputs": []
    },
    {
      "cell_type": "code",
      "source": [
        "# Clean Android Version\n",
        "df1['Android Ver'] = df1['Android Ver'].replace('Varies with device', np.nan)"
      ],
      "metadata": {
        "id": "GWtP0JMYGQud"
      },
      "execution_count": null,
      "outputs": []
    },
    {
      "cell_type": "code",
      "source": [
        "# Check data type of Android Ver column\n",
        "df1['Android Ver'].dtype"
      ],
      "metadata": {
        "id": "kiVwXQLzyPt1"
      },
      "execution_count": null,
      "outputs": []
    },
    {
      "cell_type": "markdown",
      "source": [
        "###handling missing values"
      ],
      "metadata": {
        "id": "E4ygek_-_AhN"
      }
    },
    {
      "cell_type": "code",
      "source": [
        "#check data type of each column in df1\n",
        "df1.dtypes"
      ],
      "metadata": {
        "id": "wk-9a2fpoLcV"
      },
      "execution_count": null,
      "outputs": []
    },
    {
      "cell_type": "code",
      "source": [
        "#print all columns in df1\n",
        "df1.columns"
      ],
      "metadata": {
        "id": "h_vcGb1m_Oik"
      },
      "execution_count": null,
      "outputs": []
    },
    {
      "cell_type": "code",
      "source": [
        "#num cols\n",
        "#print all numerical columns\n",
        "num_cols=df1.select_dtypes(include=['int64','float64'])\n",
        "num_cols"
      ],
      "metadata": {
        "id": "1aOf_Vi0_OlD"
      },
      "execution_count": null,
      "outputs": []
    },
    {
      "cell_type": "code",
      "source": [
        "# cat cols\n",
        "# print all categorical columns\n",
        "cat_cols=df1.select_dtypes(include=['object'])\n",
        "cat_cols"
      ],
      "metadata": {
        "id": "LA2PfKU7_Onp"
      },
      "execution_count": null,
      "outputs": []
    },
    {
      "cell_type": "code",
      "source": [
        "#check missing values\n",
        "df1.isnull().sum()"
      ],
      "metadata": {
        "id": "xTJW7OcQ_OrJ"
      },
      "execution_count": null,
      "outputs": []
    },
    {
      "cell_type": "markdown",
      "source": [
        "#####handle missing values of Rating column"
      ],
      "metadata": {
        "id": "ORUu2DyZIk1K"
      }
    },
    {
      "cell_type": "code",
      "source": [
        "#find skew\n",
        "df1['Rating'].skew() #it is negatively skewed"
      ],
      "metadata": {
        "id": "qfl_VZ2dFxmp"
      },
      "execution_count": null,
      "outputs": []
    },
    {
      "cell_type": "code",
      "source": [
        "# find median\n",
        "df1['Rating'].median()"
      ],
      "metadata": {
        "id": "tZe0ELxJHPyE"
      },
      "execution_count": null,
      "outputs": []
    },
    {
      "cell_type": "code",
      "source": [
        "#Replace missing values with median\n",
        "df1['Rating']=df1['Rating'].fillna(4.3)"
      ],
      "metadata": {
        "id": "PtINQ8LcFxpn"
      },
      "execution_count": null,
      "outputs": []
    },
    {
      "cell_type": "markdown",
      "source": [
        "#####handle missing values of Size column"
      ],
      "metadata": {
        "id": "HoKYB82uIc3o"
      }
    },
    {
      "cell_type": "code",
      "source": [
        "#find skew\n",
        "df1['Size'].skew()"
      ],
      "metadata": {
        "id": "_svDHgNHIix2"
      },
      "execution_count": null,
      "outputs": []
    },
    {
      "cell_type": "code",
      "source": [
        "#find median\n",
        "df1['Size'].median()"
      ],
      "metadata": {
        "id": "iNIHzYc8Ii1P"
      },
      "execution_count": null,
      "outputs": []
    },
    {
      "cell_type": "code",
      "source": [
        "# fill missing values with median\n",
        "df1['Size']=df1['Size'].fillna(13.0)"
      ],
      "metadata": {
        "id": "q3jtbVULJEBV"
      },
      "execution_count": null,
      "outputs": []
    },
    {
      "cell_type": "markdown",
      "source": [
        "####handling missing values of Type column"
      ],
      "metadata": {
        "id": "oiLvUtIsKh5G"
      }
    },
    {
      "cell_type": "code",
      "source": [
        "#find the mode\n",
        "df1['Type'].mode()"
      ],
      "metadata": {
        "id": "9gOMOot-MUbt"
      },
      "execution_count": null,
      "outputs": []
    },
    {
      "cell_type": "code",
      "source": [
        "# fill missing values with mode value\n",
        "df1['Type']=df1['Type'].fillna('Free')"
      ],
      "metadata": {
        "id": "BBoIO6F0OxfV"
      },
      "execution_count": null,
      "outputs": []
    },
    {
      "cell_type": "markdown",
      "source": [
        "#### handle missing values of Current Ver"
      ],
      "metadata": {
        "id": "mYGWnnBQPVrB"
      }
    },
    {
      "cell_type": "code",
      "source": [
        "#filling missing values of Current Ver column with placeholder value 'Unknown'\n",
        "df1['Current Ver'] = df1['Current Ver'].fillna('Unknown')"
      ],
      "metadata": {
        "id": "PanxqZ3OPcJ0"
      },
      "execution_count": null,
      "outputs": []
    },
    {
      "cell_type": "markdown",
      "source": [
        "####handling missing values of Android Version"
      ],
      "metadata": {
        "id": "atxGcGDYTJHK"
      }
    },
    {
      "cell_type": "code",
      "source": [
        "#find mode\n",
        "df1['Android Ver'].mode()"
      ],
      "metadata": {
        "id": "mJA0RmpbPcP6"
      },
      "execution_count": null,
      "outputs": []
    },
    {
      "cell_type": "code",
      "source": [
        "# fill missing values with mode value\n",
        "df1['Android Ver']=df1['Android Ver'].fillna('4.1 and up')"
      ],
      "metadata": {
        "id": "IVTrmjhlUMyO"
      },
      "execution_count": null,
      "outputs": []
    },
    {
      "cell_type": "code",
      "source": [
        "#Final check: ensure no missing values remain\n",
        "print(\"Remaining Missing Values:\")\n",
        "print(df1.isnull().sum())"
      ],
      "metadata": {
        "collapsed": true,
        "id": "ImgHIGowUoUN"
      },
      "execution_count": null,
      "outputs": []
    },
    {
      "cell_type": "markdown",
      "source": [
        "### What all manipulations have you done and insights you found?"
      ],
      "metadata": {
        "id": "MSa1f5Uengrz"
      }
    },
    {
      "cell_type": "markdown",
      "source": [
        "#### **Data Manipulations and Insights**\n",
        "In this project, we carried out several data cleaning and manipulation tasks to prepare the Play Store dataset for analysis. The main steps and insights are summarized below:\n",
        "\n",
        "1. **Data Type Conversion and Column Cleaning**\n",
        "\n",
        "To ensure proper analysis, columns with incorrect data types were converted, and necessary cleaning steps were performed:\n",
        "\n",
        "* Reviews: Converted from object to integer.\n",
        "* Installs: Converted from object to integer by removing non-numeric characters (like commas and plus signs).\n",
        "* Last Updated: Converted from object to datetime for time-series analysis.\n",
        "* Price: Converted from object to float by removing currency symbols.\n",
        "* Size: Cleaned and converted from object to float, replacing non-numeric characters (e.g., 'M', 'K').\n",
        "* Android Ver: Cleaned to ensure consistent formatting of Android versions.\n",
        "\n",
        "2. **Handling Missing Values**\n",
        "\n",
        "To address missing values in the dataset, various imputation strategies were applied:\n",
        "\n",
        "* Rating: Missing values were replaced with the median, preserving the overall data distribution.\n",
        "* Size: Missing values were also replaced with the median to maintain consistency.\n",
        "* Type: Missing values were filled with the mode, representing the most frequently occurring category.\n",
        "* Current Ver: Missing values were replaced with the placeholder value 'Unknown' for clarity.\n",
        "* Android Ver: Missing values were filled with the mode to ensure uniformity.\n",
        "\n",
        "3. **Insights Gained**\n",
        "* Proper data type conversions ensured accurate numerical analysis for columns like Reviews, Installs, and Price.\n",
        "* Cleaning and imputing missing values provided a complete and structured dataset, ready for further exploratory data analysis.\n",
        "* Addressing inconsistencies in columns like Android Ver and Size helped in creating standardized data, leading to more reliable insights."
      ],
      "metadata": {
        "id": "qXfPHMSbmGg6"
      }
    },
    {
      "cell_type": "markdown",
      "source": [
        "## ***4. Data Vizualization, Storytelling & Experimenting with charts : Understand the relationships between variables***"
      ],
      "metadata": {
        "id": "GF8Ens_Soomf"
      }
    },
    {
      "cell_type": "markdown",
      "source": [
        "## **Univariate**"
      ],
      "metadata": {
        "id": "jeOERZGEEic_"
      }
    },
    {
      "cell_type": "markdown",
      "source": [
        "1. **What is the distribution of app ratings?**"
      ],
      "metadata": {
        "id": "0wOQAZs5pc--"
      }
    },
    {
      "cell_type": "code",
      "source": [
        "# Chart - 1 visualization code\n",
        "# Histogram\n",
        "\n",
        "#Set the plot style\n",
        "sns.set(style=\"whitegrid\")\n",
        "\n",
        "#Plot the Histogram and KDE for app ratings\n",
        "plt.figure(figsize=(10, 6))\n",
        "sns.histplot(df1['Rating'], kde=True, bins=20, color='blue', alpha=0.6)\n",
        "\n",
        "#Add labels and title\n",
        "plt.title('Distribution of App Ratings', fontsize=16)\n",
        "plt.xlabel('Ratings', fontsize=12)\n",
        "plt.ylabel('Frequency', fontsize=12)\n",
        "plt.show() #show the plot"
      ],
      "metadata": {
        "id": "7v_ESjsspbW7"
      },
      "execution_count": null,
      "outputs": []
    },
    {
      "cell_type": "markdown",
      "source": [
        "##### 1. Why did you pick the specific chart?"
      ],
      "metadata": {
        "id": "K5QZ13OEpz2H"
      }
    },
    {
      "cell_type": "markdown",
      "source": [
        "I selected the Histogram with KDE (Kernel Density Estimate) plot because it provides both a visual summary of the frequency distribution of app ratings and a smooth curve to observe the underlying distribution shape. This combination allows us to easily identify common rating values, overall spread, skewness, and the presence of any outliers or patterns in the ratings."
      ],
      "metadata": {
        "id": "XESiWehPqBRc"
      }
    },
    {
      "cell_type": "markdown",
      "source": [
        "##### 2. What is/are the insight(s) found from the chart?"
      ],
      "metadata": {
        "id": "lQ7QKXXCp7Bj"
      }
    },
    {
      "cell_type": "markdown",
      "source": [
        "* The majority of apps have high ratings between 4.0 and 4.5, indicating generally good user satisfaction.\n",
        "* There is a positive skew, meaning fewer apps have lower ratings.\n",
        "* A sharp peak near 4.3–4.4 suggests that many apps cluster around this rating.\n",
        "* Very few apps have ratings below 3.0, which shows that poorly rated apps are less common on the Play Store."
      ],
      "metadata": {
        "id": "C_j1G7yiqdRP"
      }
    },
    {
      "cell_type": "markdown",
      "source": [
        "##### 3. Will the gained insights help creating a positive business impact?Are there any insights that lead to negative growth? Justify with specific reason."
      ],
      "metadata": {
        "id": "448CDAPjqfQr"
      }
    },
    {
      "cell_type": "markdown",
      "source": [
        "(i) Yes, these insights can help in the following ways:\n",
        "* For developers and businesses, understanding that users tend to download and positively rate apps that maintain a 4.0+ rating can be crucial. It can motivate efforts toward improving app quality, bug fixing, and user experience to stay competitive.\n",
        "* Marketing teams can focus on promoting apps that cross the 4.0 threshold to increase credibility and downloads.\n",
        "* Product managers can benchmark average ratings (around 4.3) as a target for new or underperforming apps.\n",
        "\n",
        "(ii) Negative Insight:\n",
        "* Apps with ratings below 3.0 are rare and likely to perform poorly. If a business's app consistently falls in this range, it can signal a need for major improvements or risk losing user trust and visibility in the Play Store."
      ],
      "metadata": {
        "id": "3cspy4FjqxJW"
      }
    },
    {
      "cell_type": "markdown",
      "source": [
        "2. **Which app category has the highest number of apps?**"
      ],
      "metadata": {
        "id": "KSlN3yHqYklG"
      }
    },
    {
      "cell_type": "code",
      "source": [
        "# Chart - 2 visualization code\n",
        "#Bar Chart\n",
        "\n",
        "#Count the number of apps in each category\n",
        "category_counts = df1['Category'].value_counts().reset_index()\n",
        "category_counts.columns = ['Category', 'Count']\n",
        "\n",
        "#Set the plot size and style\n",
        "plt.figure(figsize=(12, 6))\n",
        "sns.barplot(data=category_counts, x='Category', y='Count', hue='Category', palette='viridis', legend=False) #plot the bar chart\n",
        "\n",
        "#Add labels and title\n",
        "plt.title('Number of Apps by Category', fontsize=16)\n",
        "plt.xlabel('App Category', fontsize=12)\n",
        "plt.ylabel('Number of Apps', fontsize=12)\n",
        "plt.xticks(rotation=45, ha='right')  # Rotate x-axis labels for readability\n",
        "\n",
        "#Show the plot\n",
        "plt.tight_layout()\n",
        "plt.show()\n"
      ],
      "metadata": {
        "id": "aBQlal-6ShWi"
      },
      "execution_count": null,
      "outputs": []
    },
    {
      "cell_type": "markdown",
      "source": [
        "##### 1. Why did you pick the specific chart?"
      ],
      "metadata": {
        "id": "t6dVpIINYklI"
      }
    },
    {
      "cell_type": "markdown",
      "source": [
        "A bar chart is ideal for comparing discrete categories—in this case, different app categories. It clearly visualizes which categories have the most or fewest apps, making it easy to interpret and compare the distribution across all categories.\n",
        "\n"
      ],
      "metadata": {
        "id": "5aaW0BYyYklI"
      }
    },
    {
      "cell_type": "markdown",
      "source": [
        "##### 2. What is/are the insight(s) found from the chart?"
      ],
      "metadata": {
        "id": "ijmpgYnKYklI"
      }
    },
    {
      "cell_type": "markdown",
      "source": [
        "The \"FAMILY\" category has the highest number of apps, followed by \"GAME\" and \"TOOLS\". This suggests that developers focus heavily on family-oriented and entertainment-based applications. On the other end, categories like \"BEAUTY\", \"COMICS\", and \"PARENTING\" have very few apps, indicating limited competition or niche markets.\n",
        "\n"
      ],
      "metadata": {
        "id": "PSx9atu2YklI"
      }
    },
    {
      "cell_type": "markdown",
      "source": [
        "##### 3. Will the gained insights help creating a positive business impact?Are there any insights that lead to negative growth? Justify with specific reason."
      ],
      "metadata": {
        "id": "-JiQyfWJYklI"
      }
    },
    {
      "cell_type": "markdown",
      "source": [
        "(i) Yes, these insights can drive positive business impact. Businesses or developers looking to enter the app market can:\n",
        "* Capitalize on high-demand categories like FAMILY or GAME where user interest is strong.\n",
        "* Alternatively, they can target underrepresented categories (e.g., BEAUTY or COMICS) to fill gaps in the market with innovative or high-quality apps, facing less competition.\n",
        "\n",
        "(ii) A negative growth risk might exist in oversaturated categories like FAMILY, where standing out becomes harder. New apps in crowded categories may struggle with visibility unless they offer a unique value proposition or significant marketing push.\n",
        "\n"
      ],
      "metadata": {
        "id": "BcBbebzrYklV"
      }
    },
    {
      "cell_type": "markdown",
      "source": [
        "3. **What is the proportion of free vs paid apps?**"
      ],
      "metadata": {
        "id": "EM7whBJCYoAo"
      }
    },
    {
      "cell_type": "code",
      "source": [
        "# Chart - 3 visualization code\n",
        "#Pie Chart\n",
        "\n",
        "app_type= df1['Type'].value_counts().reset_index()\n",
        "\n",
        "#Set the plot size and style\n",
        "plt.figure(figsize=(6,6))\n",
        "plt.pie(app_type['count'],labels=df1['Type'].unique(),autopct='%0.1f%%',startangle=90,colors=['lightblue','lightcoral']) # create pie chart\n",
        "\n",
        "#Add title\n",
        "plt.title('Proportion of Free Vs Paid Apps', fontsize=14)\n",
        "\n",
        "#Show the plot\n",
        "plt.show()"
      ],
      "metadata": {
        "id": "t6GMdE67YoAp"
      },
      "execution_count": null,
      "outputs": []
    },
    {
      "cell_type": "markdown",
      "source": [
        "##### 1. Why did you pick the specific chart?"
      ],
      "metadata": {
        "id": "fge-S5ZAYoAp"
      }
    },
    {
      "cell_type": "markdown",
      "source": [
        "A pie chart is ideal for visualizing categorical proportions. It clearly conveys the share of free vs. paid apps, making it easy to compare their distribution."
      ],
      "metadata": {
        "id": "5dBItgRVYoAp"
      }
    },
    {
      "cell_type": "markdown",
      "source": [
        "##### 2. What is/are the insight(s) found from the chart?"
      ],
      "metadata": {
        "id": "85gYPyotYoAp"
      }
    },
    {
      "cell_type": "markdown",
      "source": [
        "Approximately 92.6% of the apps are free, while only 7.4% are paid. This highlights a strong preference for free apps on the Play Store."
      ],
      "metadata": {
        "id": "4jstXR6OYoAp"
      }
    },
    {
      "cell_type": "markdown",
      "source": [
        "##### 3. Will the gained insights help creating a positive business impact?Are there any insights that lead to negative growth? Justify with specific reason."
      ],
      "metadata": {
        "id": "RoGjAbkUYoAp"
      }
    },
    {
      "cell_type": "markdown",
      "source": [
        "Yes. The insight suggests that adopting a freemium or ad-supported model may align better with user expectations and market trends. However, the low share of paid apps also signals challenges in monetizing through upfront purchases alone.\n",
        "\n"
      ],
      "metadata": {
        "id": "zfJ8IqMcYoAp"
      }
    },
    {
      "cell_type": "markdown",
      "source": [
        "4. **What is the distribution of the number of reviews?(using boxplot)**"
      ],
      "metadata": {
        "id": "4Of9eVA-YrdM"
      }
    },
    {
      "cell_type": "code",
      "source": [
        "# Chart - 4 visualization code\n",
        "#Boxplot\n",
        "\n",
        "import matplotlib.ticker as mtick\n",
        "\n",
        "#Set the plot size and style\n",
        "plt.figure(figsize=(10, 5))\n",
        "sns.boxplot(data=df1, x='Reviews', color='orange') #create boxplot\n",
        "\n",
        "#Add title and label\n",
        "plt.xscale('log') # Use log scale for better visibility\n",
        "plt.xlabel('Number of Reviews (log scale)', fontsize=12)\n",
        "plt.title('Distribution of Number of Reviews (Boxplot)', fontsize=14)\n",
        "\n",
        "#Show the plot\n",
        "plt.show()\n"
      ],
      "metadata": {
        "id": "irlUoxc8YrdO"
      },
      "execution_count": null,
      "outputs": []
    },
    {
      "cell_type": "markdown",
      "source": [
        "##### 1. Why did you pick the specific chart?"
      ],
      "metadata": {
        "id": "iky9q4vBYrdO"
      }
    },
    {
      "cell_type": "markdown",
      "source": [
        "The boxplot was chosen to clearly show the distribution and spread of review counts, including outliers. The log scale was applied to better visualize the wide range of values across apps."
      ],
      "metadata": {
        "id": "aJRCwT6DYrdO"
      }
    },
    {
      "cell_type": "markdown",
      "source": [
        "##### 2. What is/are the insight(s) found from the chart?"
      ],
      "metadata": {
        "id": "F6T5p64dYrdO"
      }
    },
    {
      "cell_type": "markdown",
      "source": [
        "Most apps receive relatively few reviews, while a small number get extremely high reviews. The data is right-skewed with many outliers, indicating a concentration of user engagement in a few popular apps."
      ],
      "metadata": {
        "id": "Xx8WAJvtYrdO"
      }
    },
    {
      "cell_type": "markdown",
      "source": [
        "##### 3. Will the gained insights help creating a positive business impact?Are there any insights that lead to negative growth? Justify with specific reason."
      ],
      "metadata": {
        "id": "y-Ehk30pYrdP"
      }
    },
    {
      "cell_type": "markdown",
      "source": [
        "Yes. These insights highlight the need to improve visibility and engagement for low-performing apps. Identifying top-performing apps can guide strategies to boost user interaction. Apps with few reviews may risk limited growth without targeted improvement."
      ],
      "metadata": {
        "id": "jLNxxz7MYrdP"
      }
    },
    {
      "cell_type": "markdown",
      "source": [
        "5. **What is the distribution of the number of reviews?(using histogram)**"
      ],
      "metadata": {
        "id": "bamQiAODYuh1"
      }
    },
    {
      "cell_type": "code",
      "source": [
        "# Chart - 5 visualization code\n",
        "#Histogram\n",
        "\n",
        "#Set figure size\n",
        "plt.figure(figsize=(10, 6))\n",
        "\n",
        "#Plot Histogram\n",
        "#Use log scale to handle wide range of values\n",
        "sns.histplot(data=df1, x='Reviews', bins=50, kde=True, color='skyblue', log_scale=(True, False)) # plot Histogram\n",
        "\n",
        "#Add labels and title\n",
        "plt.xlabel('Number of Reviews (log scale)', fontsize=12)\n",
        "plt.ylabel('Frequency', fontsize=12)\n",
        "plt.title('Distribution of Number of Reviews (Histogram)', fontsize=14)\n",
        "\n",
        "#Show the plot\n",
        "plt.tight_layout()\n",
        "plt.show()"
      ],
      "metadata": {
        "id": "TIJwrbroYuh3"
      },
      "execution_count": null,
      "outputs": []
    },
    {
      "cell_type": "markdown",
      "source": [
        "##### 1. Why did you pick the specific chart?"
      ],
      "metadata": {
        "id": "QHF8YVU7Yuh3"
      }
    },
    {
      "cell_type": "markdown",
      "source": [
        "I chose the histogram because it effectively illustrates the distribution of app reviews across different review count ranges. It highlights how many apps fall into each range, making it ideal for understanding overall user engagement patterns."
      ],
      "metadata": {
        "id": "dcxuIMRPYuh3"
      }
    },
    {
      "cell_type": "markdown",
      "source": [
        "##### 2. What is/are the insight(s) found from the chart?"
      ],
      "metadata": {
        "id": "GwzvFGzlYuh3"
      }
    },
    {
      "cell_type": "markdown",
      "source": [
        "The chart reveals that most apps have a relatively low number of reviews, while a few apps have very high review counts. This indicates a positively skewed distribution, where a small number of apps dominate user attention.\n",
        "\n"
      ],
      "metadata": {
        "id": "uyqkiB8YYuh3"
      }
    },
    {
      "cell_type": "markdown",
      "source": [
        "##### 3. Will the gained insights help creating a positive business impact?Are there any insights that lead to negative growth? Justify with specific reason."
      ],
      "metadata": {
        "id": "qYpmQ266Yuh3"
      }
    },
    {
      "cell_type": "markdown",
      "source": [
        "Yes, these insights can guide developers and marketers to analyze what makes top-reviewed apps successful and replicate those strategies. However, the heavy skew also indicates that many apps struggle to gain visibility, which could lead to negative growth if not addressed with targeted marketing and quality improvements.\n"
      ],
      "metadata": {
        "id": "_WtzZ_hCYuh4"
      }
    },
    {
      "cell_type": "markdown",
      "source": [
        "6. **How is the size of apps distributed?**"
      ],
      "metadata": {
        "id": "OH-pJp9IphqM"
      }
    },
    {
      "cell_type": "code",
      "source": [
        "# Chart - 6 visualization code\n",
        "#Histogram\n",
        "\n",
        "#Set figure size\n",
        "plt.figure(figsize=(10,6))\n",
        "\n",
        "#Plot histogram\n",
        "sns.histplot(data=df1,x='Size',bins=40,kde=True,color='brown')\n",
        "\n",
        "#Add labels and title\n",
        "plt.xlabel('App Size (in MB)', fontsize=12)\n",
        "plt.ylabel('Frequency', fontsize=12)\n",
        "plt.title('Distribution of App Size (Histogram)', fontsize=14)\n",
        "\n",
        "#Show the plot\n",
        "plt.tight_layout()\n",
        "plt.show()"
      ],
      "metadata": {
        "id": "kuRf4wtuphqN"
      },
      "execution_count": null,
      "outputs": []
    },
    {
      "cell_type": "markdown",
      "source": [
        "##### 1. Why did you pick the specific chart?"
      ],
      "metadata": {
        "id": "bbFf2-_FphqN"
      }
    },
    {
      "cell_type": "markdown",
      "source": [
        "I selected a histogram because it effectively visualizes the distribution of app sizes across the dataset, helping to understand how frequently different size ranges occur.\n",
        "\n"
      ],
      "metadata": {
        "id": "loh7H2nzphqN"
      }
    },
    {
      "cell_type": "markdown",
      "source": [
        "##### 2. What is/are the insight(s) found from the chart?"
      ],
      "metadata": {
        "id": "_ouA3fa0phqN"
      }
    },
    {
      "cell_type": "markdown",
      "source": [
        "The majority of apps are relatively small in size, with a large number under 20 MB. The distribution is right-skewed, indicating a smaller proportion of large-sized apps."
      ],
      "metadata": {
        "id": "VECbqPI7phqN"
      }
    },
    {
      "cell_type": "markdown",
      "source": [
        "##### 3. Will the gained insights help creating a positive business impact?Are there any insights that lead to negative growth? Justify with specific reason."
      ],
      "metadata": {
        "id": "Seke61FWphqN"
      }
    },
    {
      "cell_type": "markdown",
      "source": [
        "(i) Yes, these insights guide developers to optimize app sizes. Since users tend to prefer lightweight apps, especially in regions with limited storage or slower networks, targeting a smaller app footprint can improve download rates and user retention.\n",
        "\n",
        "(ii) Yes, apps with very large sizes might face lower install rates due to data and storage limitations, leading to potential negative growth if not optimized.\n",
        "\n",
        "            "
      ],
      "metadata": {
        "id": "DW4_bGpfphqN"
      }
    },
    {
      "cell_type": "markdown",
      "source": [
        "7. **Which are the top 10 most installed apps?**"
      ],
      "metadata": {
        "id": "O1Lf_Qq68uNs"
      }
    },
    {
      "cell_type": "code",
      "source": [
        "# Chart - 7 visualization code\n",
        "#Bar Chart\n",
        "\n",
        "#Sort by number of installs and take top 10 apps\n",
        "top_installed = df1.sort_values(by='Installs', ascending=False).head(10)\n",
        "\n",
        "#Plot the top 10 most installed apps\n",
        "#Plot barchart\n",
        "plt.figure(figsize=(10, 6))\n",
        "sns.barplot(x='Installs', y='App', data=top_installed,color='darkblue')\n",
        "\n",
        "#Add labels and title\n",
        "plt.xlabel('Number of Installs', fontsize=12)\n",
        "plt.ylabel('App Name', fontsize=12)\n",
        "plt.title('Top 10 Most Installed Apps', fontsize=14)\n",
        "\n",
        "#Use log scale as numbers are too large\n",
        "plt.xscale('log')\n",
        "\n",
        "#Show the plot\n",
        "plt.tight_layout()\n",
        "plt.show()"
      ],
      "metadata": {
        "id": "r0HJcqAJ8qDj"
      },
      "execution_count": null,
      "outputs": []
    },
    {
      "cell_type": "markdown",
      "source": [
        "##### 1. Why did you pick the specific chart?"
      ],
      "metadata": {
        "id": "WGCZj4nx8qm-"
      }
    },
    {
      "cell_type": "markdown",
      "source": [
        "This chart was selected to visually highlight the most installed apps, giving a clear comparison of app popularity based on install counts. A horizontal barplot with log scale is ideal for comparing large values across categories (apps)."
      ],
      "metadata": {
        "id": "tDW9RdtNFxp0"
      }
    },
    {
      "cell_type": "markdown",
      "source": [
        "##### 2. What is/are the insight(s) found from the chart?"
      ],
      "metadata": {
        "id": "iwtb6g5b8qyQ"
      }
    },
    {
      "cell_type": "markdown",
      "source": [
        "* All top 10 apps have over 1 billion installs, indicating their massive popularity.\n",
        "* Google apps dominate the list, showing strong user reliance on core Google services.\n",
        "* Social media and gaming apps (e.g., Facebook, Instagram, Subway Surfers) are also highly popular, indicating user preference for communication and entertainment."
      ],
      "metadata": {
        "id": "C7SwE8HNKC9Z"
      }
    },
    {
      "cell_type": "markdown",
      "source": [
        "##### 3. Will the gained insights help creating a positive business impact?Are there any insights that lead to negative growth? Justify with specific reason."
      ],
      "metadata": {
        "id": "imwZQR388q5T"
      }
    },
    {
      "cell_type": "markdown",
      "source": [
        "(i) Yes, they highlight which app categories (e.g., communication, social media) are most popular, helping businesses focus on high-demand areas and replicate successful app traits like strong branding and ecosystem integration.\n",
        "\n",
        "(ii) Yes. The market is saturated with dominant apps from major brands, making it difficult for new or small developers to compete, which may hinder growth without a unique value proposition."
      ],
      "metadata": {
        "id": "SBFyT69nKJba"
      }
    },
    {
      "cell_type": "markdown",
      "source": [
        "8. **What are the trends in app updates over the years?**"
      ],
      "metadata": {
        "id": "CIEWOKgP9PO8"
      }
    },
    {
      "cell_type": "code",
      "source": [
        "# Chart - 8 visualization code\n",
        "#Line chart\n",
        "\n",
        "#Extract year from 'Last Updated'\n",
        "df1['Last Updated Year'] = df1['Last Updated'].dt.year\n",
        "\n",
        "#Count number of updates per year\n",
        "updates_per_year = df1['Last Updated Year'].value_counts().sort_index()\n",
        "\n",
        "#Set the plot size and style\n",
        "plt.figure(figsize=(10, 6))\n",
        "plt.plot(updates_per_year.index, updates_per_year.values, marker='o', color='teal') #create line chart\n",
        "\n",
        "#Add labels and title\n",
        "plt.xlabel('Year', fontsize=12)\n",
        "plt.ylabel('Number of Apps Updated', fontsize=12)\n",
        "plt.title('Trend of App Updates Over the Years', fontsize=14)\n",
        "\n",
        "#Show the plot\n",
        "plt.grid(True)\n",
        "plt.tight_layout()\n",
        "plt.show()\n"
      ],
      "metadata": {
        "id": "pvUpm-eg9Pki"
      },
      "execution_count": null,
      "outputs": []
    },
    {
      "cell_type": "markdown",
      "source": [
        "##### 1. Why did you pick the specific chart?"
      ],
      "metadata": {
        "id": "gJVxPyWn9P8M"
      }
    },
    {
      "cell_type": "markdown",
      "source": [
        "I chose a line chart because it is ideal for showing trends over time. It helps clearly visualize how the number of app updates has changed across different years, making it easy to identify patterns and shifts in update frequency."
      ],
      "metadata": {
        "id": "QebKv24pOmp0"
      }
    },
    {
      "cell_type": "markdown",
      "source": [
        "##### 2. What is/are the insight(s) found from the chart?"
      ],
      "metadata": {
        "id": "mk643AH89QEw"
      }
    },
    {
      "cell_type": "markdown",
      "source": [
        "The chart shows a sharp increase in the number of app updates over the years, especially from 2016 to 2018. This indicates that developers have become more active in maintaining and improving their apps, possibly due to rising user expectations and competition."
      ],
      "metadata": {
        "id": "pdCWttevOoTL"
      }
    },
    {
      "cell_type": "markdown",
      "source": [
        "##### 3. Will the gained insights help creating a positive business impact?Are there any insights that lead to negative growth? Justify with specific reason."
      ],
      "metadata": {
        "id": "4XNbET5s9QNo"
      }
    },
    {
      "cell_type": "markdown",
      "source": [
        "(i) Yes, the insights highlight the importance of frequent app updates, which can enhance user satisfaction, fix bugs, and add new features—leading to higher retention and better reviews. This encourages developers to adopt consistent update strategies to stay competitive.\n",
        "\n",
        "(ii) Not directly, but the absence of regular updates may signal app abandonment, leading to negative user perception, reduced installs, and poor ratings—ultimately harming growth. Apps that lag in updates risk losing relevance in a fast-evolving market.\n",
        "\n",
        "\n",
        "\n",
        "\n",
        "\n",
        "\n",
        "\n",
        "\n"
      ],
      "metadata": {
        "id": "TrnQRjwqOsl9"
      }
    },
    {
      "cell_type": "markdown",
      "source": [
        "## **Bivariate**"
      ],
      "metadata": {
        "id": "by1l5pGo-lkZ"
      }
    },
    {
      "cell_type": "markdown",
      "source": [
        "9. **Is there a relationship between app ratings and the number of reviews?**"
      ],
      "metadata": {
        "id": "PIIx-8_IphqN"
      }
    },
    {
      "cell_type": "code",
      "source": [
        "# Chart - 9 visualization code\n",
        "#Scatter Plot\n",
        "\n",
        "#Set figure size\n",
        "plt.figure(figsize=(10,6))\n",
        "\n",
        "#Plot scatterplot\n",
        "sns.scatterplot(data=df1, x='Rating',y='Reviews',color='teal',alpha=0.6)\n",
        "\n",
        "#Use log scale for y-axis to handle skewed review counts\n",
        "plt.yscale('log')\n",
        "\n",
        "#Add labels and title\n",
        "plt.xlabel('App Rating',fontsize=12)\n",
        "plt.ylabel('Number of Reviews(log scale)',fontsize=12)\n",
        "plt.title('App Rating vs Number of Reviews(Scatter Plot)',fontsize=14)\n",
        "\n",
        "#Show the plot\n",
        "plt.tight_layout()\n",
        "plt.show()"
      ],
      "metadata": {
        "id": "lqAIGUfyphqO"
      },
      "execution_count": null,
      "outputs": []
    },
    {
      "cell_type": "markdown",
      "source": [
        "##### 1. Why did you pick the specific chart?"
      ],
      "metadata": {
        "id": "t27r6nlMphqO"
      }
    },
    {
      "cell_type": "markdown",
      "source": [
        "The scatter plot effectively visualizes the relationship between app ratings and the number of reviews. The log scale ensures better interpretation of skewed review counts."
      ],
      "metadata": {
        "id": "iv6ro40sphqO"
      }
    },
    {
      "cell_type": "markdown",
      "source": [
        "##### 2. What is/are the insight(s) found from the chart?"
      ],
      "metadata": {
        "id": "r2jJGEOYphqO"
      }
    },
    {
      "cell_type": "markdown",
      "source": [
        "* Higher-rated apps (4.0–5.0) tend to receive significantly more reviews, indicating strong user engagement.\n",
        "* Apps with ratings below 3.0 generally have fewer reviews, suggesting low interest or dissatisfaction.\n",
        "* Some outliers with high reviews but low ratings may indicate controversy or widespread negative feedback.\n",
        "\n"
      ],
      "metadata": {
        "id": "Po6ZPi4hphqO"
      }
    },
    {
      "cell_type": "markdown",
      "source": [
        "##### 3. Will the gained insights help creating a positive business impact?Are there any insights that lead to negative growth? Justify with specific reason."
      ],
      "metadata": {
        "id": "b0JNsNcRphqO"
      }
    },
    {
      "cell_type": "markdown",
      "source": [
        "* **Positive Impact:** High ratings drive engagement; focus on maintaining ratings above 4.0.\n",
        "* **Actionable Insight:** Apps with low ratings but high reviews require targeted improvements to prevent reputational damage.\n"
      ],
      "metadata": {
        "id": "xvSq8iUTphqO"
      }
    },
    {
      "cell_type": "markdown",
      "source": [
        "10. **How does the price vary across app categories?**"
      ],
      "metadata": {
        "id": "BZR9WyysphqO"
      }
    },
    {
      "cell_type": "code",
      "source": [
        "# Chart - 10 visualization code\n",
        "#Boxplot\n",
        "\n",
        "#Filter out free apps (price = 0) to focus on variation among paid apps\n",
        "paid_apps = df1[df1['Price'] > 0]\n",
        "\n",
        "#Set the plot size and style\n",
        "plt.figure(figsize=(14, 6))\n",
        "sns.boxplot(data=paid_apps, x='Category', y='Price') #create boxplot\n",
        "\n",
        "# Add labels and title\n",
        "plt.xticks(rotation=45, ha='right')\n",
        "plt.title('Price Distribution Across App Categories', fontsize=16)\n",
        "plt.xlabel('App Category', fontsize=12)\n",
        "plt.ylabel('Price (USD)', fontsize=12)\n",
        "\n",
        "#Show the plot\n",
        "plt.tight_layout()\n",
        "plt.show()\n"
      ],
      "metadata": {
        "id": "YDWARx7cL_7Z"
      },
      "execution_count": null,
      "outputs": []
    },
    {
      "cell_type": "markdown",
      "source": [
        "##### 1. Why did you pick the specific chart?"
      ],
      "metadata": {
        "id": "jj7wYXLtphqO"
      }
    },
    {
      "cell_type": "markdown",
      "source": [
        "The boxplot is ideal for visualizing the price distribution across different app categories, highlighting variations, outliers, and central tendencies effectively.\n",
        "\n"
      ],
      "metadata": {
        "id": "Ob8u6rCTphqO"
      }
    },
    {
      "cell_type": "markdown",
      "source": [
        "##### 2. What is/are the insight(s) found from the chart?"
      ],
      "metadata": {
        "id": "eZrbJ2SmphqO"
      }
    },
    {
      "cell_type": "markdown",
      "source": [
        "* Most categories have low-priced apps, but significant price outliers exist in \"FINANCE\" and \"MAPS_AND_NAVIGATION\" categories.\n",
        "* Categories like \"BUSINESS\", \"LIFESTYLE\", and \"MEDICAL\" show moderate price ranges.\n",
        "* Some categories (e.g., \"GAME\", \"EDUCATION\") are priced consistently lower with minimal variability.\n",
        "\n"
      ],
      "metadata": {
        "id": "mZtgC_hjphqO"
      }
    },
    {
      "cell_type": "markdown",
      "source": [
        "##### 3. Will the gained insights help creating a positive business impact?Are there any insights that lead to negative growth? Justify with specific reason."
      ],
      "metadata": {
        "id": "rFu4xreNphqO"
      }
    },
    {
      "cell_type": "markdown",
      "source": [
        "* Positive Impact: Developers in outlier-prone categories like \"FINANCE\" or \"MAPS_AND_NAVIGATION\" can explore premium pricing strategies for niche, high-value apps.\n",
        "* Potential Risks: Overpricing in competitive categories may deter users; developers should ensure that app features justify higher prices."
      ],
      "metadata": {
        "id": "ey_0qi68phqO"
      }
    },
    {
      "cell_type": "markdown",
      "source": [
        "11. **Are paid apps rated higher than free apps?**"
      ],
      "metadata": {
        "id": "YJ55k-q6phqO"
      }
    },
    {
      "cell_type": "code",
      "source": [
        "# Chart - 11 visualization code\n",
        "#Bar Chart\n",
        "\n",
        "#Set the plot size and style\n",
        "plt.figure(figsize=(6, 5)) #set figure size\n",
        "sns.barplot(data=df1, x='Type', y='Rating', hue='Type', palette='pastel', legend=False) #create bar chart\n",
        "\n",
        "#Add labels and title\n",
        "plt.title('Average Rating: Free vs Paid Apps', fontsize=14)\n",
        "plt.xlabel('App Type', fontsize=12)\n",
        "plt.ylabel('Average Rating', fontsize=12)\n",
        "plt.ylim(0, 5)  #Ratings are usually on a scale from 0 to 5\n",
        "\n",
        "#Show the plot\n",
        "plt.tight_layout()\n",
        "plt.show()"
      ],
      "metadata": {
        "id": "2mWjoupdPhGl"
      },
      "execution_count": null,
      "outputs": []
    },
    {
      "cell_type": "markdown",
      "source": [
        "##### 1. Why did you pick the specific chart?"
      ],
      "metadata": {
        "id": "gCFgpxoyphqP"
      }
    },
    {
      "cell_type": "markdown",
      "source": [
        "A bar chart is appropriate to compare the average ratings of free and paid apps. It simplifies the comparison and highlights any differences in ratings between the two app types."
      ],
      "metadata": {
        "id": "TVxDimi2phqP"
      }
    },
    {
      "cell_type": "markdown",
      "source": [
        "##### 2. What is/are the insight(s) found from the chart?"
      ],
      "metadata": {
        "id": "OVtJsKN_phqQ"
      }
    },
    {
      "cell_type": "markdown",
      "source": [
        "* Both free and paid apps have similar average ratings, hovering around 4.0.\n",
        "* Paid apps show a slightly higher average rating compared to free apps, suggesting that users may value paid apps slightly more.\n",
        "\n"
      ],
      "metadata": {
        "id": "ngGi97qjphqQ"
      }
    },
    {
      "cell_type": "markdown",
      "source": [
        "##### 3. Will the gained insights help creating a positive business impact?Are there any insights that lead to negative growth? Justify with specific reason."
      ],
      "metadata": {
        "id": "lssrdh5qphqQ"
      }
    },
    {
      "cell_type": "markdown",
      "source": [
        "* Positive Impact: Developers can focus on improving free app features to match the perceived quality of paid apps.\n",
        "* Potential Risks: Paid apps must deliver value for money, as they have only a slight edge in ratings. Failure to meet user expectations could lead to dissatisfaction and fewer purchases.\n",
        "\n",
        "\n",
        "\n",
        "\n",
        "\n",
        "\n",
        "\n"
      ],
      "metadata": {
        "id": "tBpY5ekJphqQ"
      }
    },
    {
      "cell_type": "markdown",
      "source": [
        "12. **Is app size related to the number of installs?**"
      ],
      "metadata": {
        "id": "U2RJ9gkRphqQ"
      }
    },
    {
      "cell_type": "code",
      "source": [
        "# Chart - 12 visualization code\n",
        "#Scatter Plot\n",
        "\n",
        "#Set the plot size and style\n",
        "plt.figure(figsize=(8,6)) # set figure size\n",
        "sns.scatterplot(data=df1,x='Size',y='Installs',alpha=0.6) #create scatterplot\n",
        "\n",
        "#Add labels and title\n",
        "plt.xlabel(' App Size(MB)',fontsize=12)\n",
        "plt.ylabel('Number of Installs',fontsize=12)\n",
        "plt.title('App Size vs Number of Installs',fontsize=14)\n",
        "plt.yscale('log')\n",
        "\n",
        "#Show the plot\n",
        "plt.tight_layout()\n",
        "plt.show()"
      ],
      "metadata": {
        "id": "GM7a4YP4phqQ"
      },
      "execution_count": null,
      "outputs": []
    },
    {
      "cell_type": "markdown",
      "source": [
        "##### 1. Why did you pick the specific chart?"
      ],
      "metadata": {
        "id": "1M8mcRywphqQ"
      }
    },
    {
      "cell_type": "markdown",
      "source": [
        "I selected a scatter plot because it effectively visualizes the relationship between two continuous variables—App Size and Number of Installs—highlighting potential patterns, trends, or clusters in the data.\n",
        "\n"
      ],
      "metadata": {
        "id": "8agQvks0phqQ"
      }
    },
    {
      "cell_type": "markdown",
      "source": [
        "##### 2. What is/are the insight(s) found from the chart?"
      ],
      "metadata": {
        "id": "tgIPom80phqQ"
      }
    },
    {
      "cell_type": "markdown",
      "source": [
        "The chart shows that apps of all sizes can have high install counts, suggesting no strong correlation between app size and popularity. However, there are more high-install apps in the mid-size range (10–50 MB), indicating that extremely large or small apps may be less likely to be widely downloaded.\n",
        "\n",
        "\n"
      ],
      "metadata": {
        "id": "Qp13pnNzphqQ"
      }
    },
    {
      "cell_type": "markdown",
      "source": [
        "##### 3. Will the gained insights help creating a positive business impact?Are there any insights that lead to negative growth? Justify with specific reason."
      ],
      "metadata": {
        "id": "JMzcOPDDphqR"
      }
    },
    {
      "cell_type": "markdown",
      "source": [
        "Yes, these insights can guide app developers to optimize app size for broader adoption. Knowing that very large apps might deter users due to storage concerns can inform size reduction strategies. Conversely, assuming that increasing app size will attract more users may lead to negative growth if the app becomes too heavy and less accessible on low-end devices."
      ],
      "metadata": {
        "id": "R4Ka1PC2phqR"
      }
    },
    {
      "cell_type": "markdown",
      "source": [
        "13. **How do app installs vary across categories?**"
      ],
      "metadata": {
        "id": "x-EpHcCOp1ci"
      }
    },
    {
      "cell_type": "code",
      "source": [
        "# Chart - 13 visualization code\n",
        "#Bar chart\n",
        "\n",
        "#Calculate average installs per category\n",
        "category_installs = df1.groupby('Category')['Installs'].mean().sort_values(ascending=False)\n",
        "\n",
        "#Set the plot size and style\n",
        "plt.figure(figsize=(12, 6))\n",
        "sns.barplot(x=category_installs.values, y=category_installs.index, color='lightcoral') #create bar chart\n",
        "\n",
        "#Add labels and title\n",
        "plt.xlabel('Average Number of Installs', fontsize=12)\n",
        "plt.ylabel('App Category', fontsize=12)\n",
        "plt.title('Average Installs by App Category', fontsize=14)\n",
        "\n",
        "#Use log scale if there's high variance\n",
        "plt.xscale('log')\n",
        "\n",
        "#Show the plot\n",
        "plt.tight_layout()\n",
        "plt.show()\n",
        "\n"
      ],
      "metadata": {
        "id": "mAQTIvtqp1cj"
      },
      "execution_count": null,
      "outputs": []
    },
    {
      "cell_type": "markdown",
      "source": [
        "##### 1. Why did you pick the specific chart?"
      ],
      "metadata": {
        "id": "X_VqEhTip1ck"
      }
    },
    {
      "cell_type": "markdown",
      "source": [
        "This horizontal bar chart was chosen to clearly visualize the average number of installs across app categories. It allows for easy comparison of popularity by app type and handles long category names well."
      ],
      "metadata": {
        "id": "-vsMzt_np1ck"
      }
    },
    {
      "cell_type": "markdown",
      "source": [
        "##### 2. What is/are the insight(s) found from the chart?"
      ],
      "metadata": {
        "id": "8zGJKyg5p1ck"
      }
    },
    {
      "cell_type": "markdown",
      "source": [
        "* Categories like Communication, Social, and Video Players have the highest average installs, indicating strong user demand.\n",
        "* In contrast, Medical, Events, and Beauty apps have significantly lower average installs, suggesting niche user bases or limited reach.\n",
        "\n"
      ],
      "metadata": {
        "id": "ZYdMsrqVp1ck"
      }
    },
    {
      "cell_type": "markdown",
      "source": [
        "##### 3. Will the gained insights help creating a positive business impact?Are there any insights that lead to negative growth? Justify with specific reason."
      ],
      "metadata": {
        "id": "PVzmfK_Ep1ck"
      }
    },
    {
      "cell_type": "markdown",
      "source": [
        "Yes, these insights can guide strategic app development and marketing. Focusing on high-performing categories can enhance visibility and downloads.\n",
        "However, categories with low installs might indicate oversaturation or weak demand, which could lead to negative ROI if not addressed with targeted improvements or niche positioning.\n",
        "\n"
      ],
      "metadata": {
        "id": "druuKYZpp1ck"
      }
    },
    {
      "cell_type": "markdown",
      "source": [
        "## **Multivariate**"
      ],
      "metadata": {
        "id": "dL1jiuGxAjon"
      }
    },
    {
      "cell_type": "markdown",
      "source": [
        "14. **Which numeric features in the Play Store dataset are strongly correlated? Can we identify any relationships among Rating, Reviews, Installs, Size, and Price?**"
      ],
      "metadata": {
        "id": "n3dbpmDWp1ck"
      }
    },
    {
      "cell_type": "code",
      "source": [
        "# Chart-14 Correlation Heatmap visualization code\n",
        "\n",
        "#Select only the required numeric columns\n",
        "selected_cols = ['Reviews', 'Size', 'Rating','Price','Installs']\n",
        "corr = df1[selected_cols].corr()\n",
        "\n",
        "#Plot the heatmap\n",
        "plt.figure(figsize=(6, 5))\n",
        "sns.heatmap(corr, annot=True, cmap='coolwarm', fmt=\".2f\", linewidths=0.5)\n",
        "\n",
        "#Add title\n",
        "plt.title('Correlation Heatmap: Reviews, Size, and Rating', fontsize=14)\n",
        "\n",
        "#Show the plot\n",
        "plt.tight_layout()\n",
        "plt.show()\n"
      ],
      "metadata": {
        "id": "J-uuo3VxzrhN"
      },
      "execution_count": null,
      "outputs": []
    },
    {
      "cell_type": "markdown",
      "source": [
        "##### 1. Why did you pick the specific chart?"
      ],
      "metadata": {
        "id": "ylSl6qgtp1ck"
      }
    },
    {
      "cell_type": "markdown",
      "source": [
        "The heatmap is ideal for visualizing the correlations between numerical features such as Reviews, Size, Rating, Price, and Installs. It provides a clear and concise way to identify strong or weak relationships among these variables."
      ],
      "metadata": {
        "id": "m2xqNkiQp1ck"
      }
    },
    {
      "cell_type": "markdown",
      "source": [
        "##### 2. What is/are the insight(s) found from the chart?"
      ],
      "metadata": {
        "id": "ZWILFDl5p1ck"
      }
    },
    {
      "cell_type": "markdown",
      "source": [
        "**Strong Correlation:**\n",
        "* A strong positive correlation (0.63) exists between Reviews and Installs, indicating that apps with higher install counts tend to receive more reviews.\n",
        "\n",
        "**Weak/No Correlation:**\n",
        "* Size and Rating show little to no correlation with other variables, suggesting app size and rating operate independently of features like reviews or installs.\n",
        "* Price is not correlated with Installs, suggesting that higher-priced apps do not necessarily attract more downloads.\n",
        "\n"
      ],
      "metadata": {
        "id": "x-lUsV2mp1ck"
      }
    },
    {
      "cell_type": "markdown",
      "source": [
        "##### 3. Will the gained insights help creating a positive business impact?Are there any insights that lead to negative growth? Justify with specific reason."
      ],
      "metadata": {
        "id": "M7G43BXep1ck"
      }
    },
    {
      "cell_type": "markdown",
      "source": [
        "**Positive Business Impact:**\n",
        "* Apps with more installs attract more reviews, indicating the importance of user engagement strategies to boost downloads.\n",
        "* Developers should focus on increasing install counts (e.g., through marketing) to generate more user feedback and improve app visibility.\n",
        "\n",
        "**No Negative Growth:**\n",
        "* here are no significant negative correlations between key features, meaning no immediate risk factors were identified from the analysis."
      ],
      "metadata": {
        "id": "5wwDJXsLp1cl"
      }
    },
    {
      "cell_type": "markdown",
      "source": [
        "15. **Is there any relationship among key numeric features such as Rating, Reviews, Installs, Size, and Price? Can we identify trends, clusters, or correlations from these variables?**"
      ],
      "metadata": {
        "id": "Ag9LCva-p1cl"
      }
    },
    {
      "cell_type": "code",
      "source": [
        "# Chart-15 Pairplot visualization code\n",
        "\n",
        "#Select numeric columns\n",
        "numeric_cols = ['Rating', 'Reviews', 'Installs', 'Size', 'Price']\n",
        "pairplot_data = df1[numeric_cols]\n",
        "\n",
        "#Create pairplot\n",
        "sns.pairplot(pairplot_data, corner=True, diag_kind='kde', plot_kws={'alpha': 0.5})\n",
        "\n",
        "#Add a title\n",
        "plt.suptitle('Pairplot: Rating, Reviews, Installs, Size, and Price', fontsize=16, y=1.02)\n",
        "\n",
        "#Show the plot\n",
        "plt.show()\n"
      ],
      "metadata": {
        "id": "J11ioz7tw7T9"
      },
      "execution_count": null,
      "outputs": []
    },
    {
      "cell_type": "markdown",
      "source": [
        "##### 1. Why did you pick the specific chart?"
      ],
      "metadata": {
        "id": "E6MkPsBcp1cl"
      }
    },
    {
      "cell_type": "markdown",
      "source": [
        "The pairplot is a great choice for exploring the relationships between multiple numerical features (e.g., Rating, Reviews, Installs, Size, and Price). It visually displays correlations, clusters, and distributions, providing a comprehensive overview of how these variables interact."
      ],
      "metadata": {
        "id": "V22bRsFWp1cl"
      }
    },
    {
      "cell_type": "markdown",
      "source": [
        "##### 2. What is/are the insight(s) found from the chart?"
      ],
      "metadata": {
        "id": "2cELzS2fp1cl"
      }
    },
    {
      "cell_type": "markdown",
      "source": [
        "**Reviews vs. Installs:**\n",
        "* A strong positive trend: Apps with higher installs tend to receive more reviews.\n",
        "* The scatter plot confirms this relationship as most points form an upward cluster.\n",
        "\n",
        "**Price vs. Installs:**\n",
        "* No significant correlation: High-priced apps typically have fewer installs, suggesting affordability drives downloads.\n",
        "\n",
        "**Size vs. Rating:**\n",
        "* No clear pattern: App size does not appear to influence ratings.\n",
        "\n",
        "**Distribution of Features:**\n",
        "*  Installs and Reviews are heavily skewed, with a few apps dominating the dataset (e.g., apps with billions of installs and millions of reviews).\n",
        "* Price shows many apps priced at 0, indicating a large proportion of free apps.\n",
        "\n"
      ],
      "metadata": {
        "id": "ozQPc2_Ip1cl"
      }
    },
    {
      "cell_type": "markdown",
      "source": [
        "##### 3. Will the gained insights help creating a positive business impact?Are there any insights that lead to negative growth? Justify with specific reason."
      ],
      "metadata": {
        "id": "3MPXvC8up1cl"
      }
    },
    {
      "cell_type": "markdown",
      "source": [
        "**Positive Impact:**\n",
        "* Marketing Strategies: Focus on increasing installs to generate more reviews, as they are positively correlated. Reviews can boost credibility and attract more users.\n",
        "* Pricing Strategy: Ensure apps remain competitively priced (or free) to attract higher install counts.\n",
        "\n",
        "**No Significant Negative Growth Observed**:\n",
        "However, apps with high prices may struggle to gain significant installs unless they offer unique value. Developers should carefully evaluate pricing strategies for premium apps."
      ],
      "metadata": {
        "id": "GL8l1tdLp1cl"
      }
    },
    {
      "cell_type": "markdown",
      "source": [
        "#   **User Reviews Data**"
      ],
      "metadata": {
        "id": "mahmbgG90bT1"
      }
    },
    {
      "cell_type": "markdown",
      "source": [
        "## ***1. Know Your Data***"
      ],
      "metadata": {
        "id": "fRgfIaROO5Ds"
      }
    },
    {
      "cell_type": "markdown",
      "source": [
        "### handling duplicates"
      ],
      "metadata": {
        "id": "ExcB9_C_Dwjx"
      }
    },
    {
      "cell_type": "code",
      "source": [
        "#Drop exact duplicates\n",
        "df2.drop_duplicates(inplace=True)\n",
        "\n",
        "#Standardize review text (lowercase)\n",
        "df2['Translated_Review'] = df2['Translated_Review'].str.lower()\n",
        "\n",
        "#Drop repeated review content per app\n",
        "df2.drop_duplicates(subset=['App', 'Translated_Review', 'Sentiment'], inplace=True)\n",
        "\n",
        "#Drop rows where both review and sentiment are missing\n",
        "df2.dropna(subset=['Translated_Review', 'Sentiment'], how='all', inplace=True)\n",
        "\n",
        "#Reset index\n",
        "df2.reset_index(drop=True, inplace=True)"
      ],
      "metadata": {
        "id": "H5DJ0ARlCOjW"
      },
      "execution_count": null,
      "outputs": []
    },
    {
      "cell_type": "code",
      "source": [
        "#Dataset First Look\n",
        "df2"
      ],
      "metadata": {
        "collapsed": true,
        "id": "nLC9bt5-5ruQ"
      },
      "execution_count": null,
      "outputs": []
    },
    {
      "cell_type": "code",
      "source": [
        "df2.head()"
      ],
      "metadata": {
        "id": "Dk7gpJfCGda5"
      },
      "execution_count": null,
      "outputs": []
    },
    {
      "cell_type": "code",
      "source": [
        "# Dataset Rows & Columns count\n",
        "#shape\n",
        "df2.shape"
      ],
      "metadata": {
        "id": "yEKxUD7g7qOC"
      },
      "execution_count": null,
      "outputs": []
    },
    {
      "cell_type": "code",
      "source": [
        "#Dataset Info\n",
        "df2.info()"
      ],
      "metadata": {
        "id": "6LTtHVM-7tft"
      },
      "execution_count": null,
      "outputs": []
    },
    {
      "cell_type": "code",
      "source": [
        "# Dataset Duplicate Value Count\n",
        "df2.duplicated().sum()"
      ],
      "metadata": {
        "id": "FxvOla9361Gu"
      },
      "execution_count": null,
      "outputs": []
    },
    {
      "cell_type": "code",
      "source": [
        "# Missing Values/Null Values Count\n",
        "df2.isnull().sum()"
      ],
      "metadata": {
        "id": "v9F3uKVhrEgN"
      },
      "execution_count": null,
      "outputs": []
    },
    {
      "cell_type": "markdown",
      "source": [
        "### What did you know about your dataset?"
      ],
      "metadata": {
        "id": "a8e8Dssg47c1"
      }
    },
    {
      "cell_type": "markdown",
      "source": [
        "####**Dataset Overview**\n",
        "This dataset contains 29,644 rows and 5 columns, with the following details:\n",
        "\n",
        "1. **Columns and Data Types:**\n",
        "\n",
        "* App: Contains the application names (object data type).\n",
        "* Translated_Review: Contains user reviews translated into a consistent language (object data type).\n",
        "* Sentiment: Represents the sentiment of the reviews (e.g., Positive, Negative, Neutral) (float64 data type).\n",
        "* Sentiment_Polarity: Indicates the polarity of the sentiment, measuring how positive or negative it is (float64 data type).\n",
        "* Sentiment_Subjectivity: Reflects the subjectivity of the sentiment, showing the degree to which it is opinion-based (float64 data type).\n",
        "\n",
        "2. **Duplicate Records:**\n",
        "\n",
        "* Duplicate values have already been removed, ensuring data uniqueness.\n",
        "\n",
        "3. **Missing Values:**\n",
        "\n",
        "* The Translated_Review column has 5 missing values that may need handling to ensure the completeness of the dataset."
      ],
      "metadata": {
        "id": "r-oTxmPvsORx"
      }
    },
    {
      "cell_type": "markdown",
      "source": [
        "## ***2. Understanding Your Variables***"
      ],
      "metadata": {
        "id": "lxAWvUQsG7T9"
      }
    },
    {
      "cell_type": "code",
      "source": [
        "# Dataset Columns\n",
        "df2.columns"
      ],
      "metadata": {
        "id": "lKnjlJrPHEWu"
      },
      "execution_count": null,
      "outputs": []
    },
    {
      "cell_type": "code",
      "source": [
        "# Dataset Describe\n",
        "df2.describe()"
      ],
      "metadata": {
        "id": "cmkEOQCTHEiU"
      },
      "execution_count": null,
      "outputs": []
    },
    {
      "cell_type": "markdown",
      "source": [
        "### Variables Description\n",
        "\n",
        "1. **`App`**: The name of the application (e.g., Instagram, Facebook), used to uniquely identify each app.\n",
        "2. **`Translated_Review`**: The text of user reviews, standardized and cleaned for analysis.\n",
        "3. **`Sentiment`**: The sentiment expressed in the user review, categorized as **Positive**, **Neutral**, or **Negative**.\n",
        "4. **`Sentiment_Polarity`**: A numeric value ranging from -1 (most negative) to +1 (most positive), quantifying the sentiment of a review.\n",
        "5. **`Sentiment_Subjectivity`**: A numeric value ranging from 0 (completely objective) to 1 (completely subjective), indicating the degree of personal opinion in a review."
      ],
      "metadata": {
        "id": "ir_BiBoCHNDc"
      }
    },
    {
      "cell_type": "markdown",
      "source": [
        "### Check Unique Values for each variable."
      ],
      "metadata": {
        "id": "6rUVIGs5HiLi"
      }
    },
    {
      "cell_type": "code",
      "source": [
        "df2.nunique()"
      ],
      "metadata": {
        "id": "G1lYwxYSHkzt"
      },
      "execution_count": null,
      "outputs": []
    },
    {
      "cell_type": "code",
      "source": [
        "#unique values for Sentiment column\n",
        "df2['Sentiment'].unique()"
      ],
      "metadata": {
        "id": "Zh6lwJFkZtXB"
      },
      "execution_count": null,
      "outputs": []
    },
    {
      "cell_type": "markdown",
      "source": [
        "## 3. ***Data Wrangling***"
      ],
      "metadata": {
        "id": "soC8PC42IExl"
      }
    },
    {
      "cell_type": "markdown",
      "source": [
        "### Data Wrangling Code"
      ],
      "metadata": {
        "id": "-WLCvMfhIKfy"
      }
    },
    {
      "cell_type": "markdown",
      "source": [
        "### handling missing values"
      ],
      "metadata": {
        "id": "95Q_HczzEjUz"
      }
    },
    {
      "cell_type": "code",
      "source": [
        "# check data type of each column in datframe df2\n",
        "df2.dtypes"
      ],
      "metadata": {
        "id": "BrMs2OztIjR7"
      },
      "execution_count": null,
      "outputs": []
    },
    {
      "cell_type": "code",
      "source": [
        "#num cols\n",
        "#print all numerical columns\n",
        "num_cols=df2.select_dtypes(include=['int64','float64'])\n",
        "num_cols"
      ],
      "metadata": {
        "id": "OBq2AA1zIm0e"
      },
      "execution_count": null,
      "outputs": []
    },
    {
      "cell_type": "code",
      "source": [
        "# cat cols\n",
        "# print all categorical columns\n",
        "cat_cols=df2.select_dtypes(include=['object'])\n",
        "cat_cols"
      ],
      "metadata": {
        "id": "ndb8kFGwIpvw"
      },
      "execution_count": null,
      "outputs": []
    },
    {
      "cell_type": "code",
      "source": [
        "# Missing Values/Null Values Count\n",
        "df2.isnull().sum()"
      ],
      "metadata": {
        "id": "VZT5tNun65cZ"
      },
      "execution_count": null,
      "outputs": []
    },
    {
      "cell_type": "code",
      "source": [
        "df2.dropna(subset=['Translated_Review'], inplace=True)"
      ],
      "metadata": {
        "id": "FPKHh-uf-dQm"
      },
      "execution_count": null,
      "outputs": []
    },
    {
      "cell_type": "code",
      "source": [
        "#Final check: ensure no missing values remain\n",
        "print(\"Remaining Missing Values:\")\n",
        "print(df2.isnull().sum())"
      ],
      "metadata": {
        "id": "qWhbQsNl_dJi"
      },
      "execution_count": null,
      "outputs": []
    },
    {
      "cell_type": "markdown",
      "source": [
        "### What all manipulations have you done and insights you found?"
      ],
      "metadata": {
        "id": "37IoJf9lEG6x"
      }
    },
    {
      "cell_type": "markdown",
      "source": [
        "####**Data Manipulations**\n",
        "In the dataset comprising app reviews and sentiment analysis data, the following preprocessing steps were performed:\n",
        "\n",
        "1. **Column Categorization:**\n",
        "\n",
        "* The dataset contains 29,644 rows and 5 columns.\n",
        "* Columns were classified as:\n",
        "  * Categorical Columns: App, Translated_Review, Sentiment (data type: object).\n",
        "  * Numerical Columns: Sentiment_Polarity, Sentiment_Subjectivity (data type: float64).\n",
        "\n",
        "2. **Handling Missing Values:**\n",
        "\n",
        "* There were 5 missing values in the Translated_Review column.\n",
        "* Rows containing missing values in this column were removed using the dropna() function to ensure data consistency.\n",
        "\n",
        "####**Insights Gained**\n",
        "* The dataset has been cleaned, with all null values addressed and duplicate entries already handled.\n",
        "* Categorical Features (App, Translated_Review, Sentiment) can provide insights into app performance and user sentiment.\n",
        "* Numerical Features (Sentiment_Polarity, Sentiment_Subjectivity) allow for sentiment analysis:\n",
        "  * Polarity: Measures the positivity or negativity of user reviews.\n",
        "  * Subjectivity: Indicates whether reviews are factual or opinion-based."
      ],
      "metadata": {
        "id": "6uxcJq6dEIfz"
      }
    },
    {
      "cell_type": "markdown",
      "source": [
        "## ***4. Data Vizualization, Storytelling & Experimenting with charts : Understand the relationships between variables***"
      ],
      "metadata": {
        "id": "E4AjBeJu7ELN"
      }
    },
    {
      "cell_type": "markdown",
      "source": [
        "## **Univariate**"
      ],
      "metadata": {
        "id": "gpK2M9zFEs97"
      }
    },
    {
      "cell_type": "markdown",
      "source": [
        "16. **What is the distribution of sentiments (Positive, Neutral, Negative) in the dataset?**\n"
      ],
      "metadata": {
        "id": "NC_X3p0fY2L0"
      }
    },
    {
      "cell_type": "code",
      "source": [
        "# Chart - 16 visualization code\n",
        "#Bar Chart\n",
        "\n",
        "#Count the occurrences of each sentiment\n",
        "sentiment_counts = df2['Sentiment'].value_counts()\n",
        "\n",
        "#Plot the bar chart\n",
        "plt.figure(figsize=(8, 6))\n",
        "sns.barplot(x=sentiment_counts.index, y=sentiment_counts.values, color='lightgreen') #create bar chart\n",
        "\n",
        "#Add titles and labels\n",
        "plt.title('Sentiment Distribution in the Dataset', fontsize=16)\n",
        "plt.xlabel('Sentiment', fontsize=12)\n",
        "plt.ylabel('Count', fontsize=12)\n",
        "\n",
        "#Show the plot\n",
        "plt.show()\n"
      ],
      "metadata": {
        "id": "xyC9zolEZNRQ"
      },
      "execution_count": null,
      "outputs": []
    },
    {
      "cell_type": "markdown",
      "source": [
        "##### 1. Why did you pick the specific chart?"
      ],
      "metadata": {
        "id": "UV0SzAkaZNRQ"
      }
    },
    {
      "cell_type": "markdown",
      "source": [
        "I selected a bar chart because it effectively displays the frequency of categorical data—in this case, sentiment labels (Positive, Negative, Neutral). It offers a clear visual comparison of how user sentiments are distributed across the dataset.\n",
        "\n"
      ],
      "metadata": {
        "id": "DVPuT8LYZNRQ"
      }
    },
    {
      "cell_type": "markdown",
      "source": [
        "##### 2. What is/are the insight(s) found from the chart?"
      ],
      "metadata": {
        "id": "YPEH6qLeZNRQ"
      }
    },
    {
      "cell_type": "markdown",
      "source": [
        "The majority of user reviews are positive, followed by negative and then neutral sentiments. This indicates that users generally have favorable experiences with the apps."
      ],
      "metadata": {
        "id": "bfSqtnDqZNRR"
      }
    },
    {
      "cell_type": "markdown",
      "source": [
        "##### 3. Will the gained insights help creating a positive business impact?Are there any insights that lead to negative growth? Justify with specific reason."
      ],
      "metadata": {
        "id": "Z8TCxhZoC7p1"
      }
    },
    {
      "cell_type": "markdown",
      "source": [
        "* Yes, the insights indicate a healthy user perception, which can reinforce brand trust and user retention.\n",
        "* Negative Insight: The significant portion of negative reviews highlights areas for improvement. Addressing issues raised in these reviews could prevent churn and support long-term growth.\n",
        "\n"
      ],
      "metadata": {
        "id": "WDsbSOH9SI03"
      }
    },
    {
      "cell_type": "markdown",
      "source": [
        "17. **What is the distribution of sentiment polarity scores?**"
      ],
      "metadata": {
        "id": "q29F0dvdveiT"
      }
    },
    {
      "cell_type": "code",
      "source": [
        "# Chart - 17 visualization code\n",
        "#Chart: Histogram or KDE plot.\n",
        "\n",
        "# Set the plot size and style\n",
        "plt.figure(figsize=(10,6))\n",
        "sns.histplot(data=df2, x='Sentiment_Polarity',bins=15,kde=True, color='orange') #create histogram\n",
        "\n",
        "#Add title and labels\n",
        "plt.title('Distribution of Sentiment Polarity Scores',fontsize=14)\n",
        "plt.xlabel('Sentiment Polarity',fontsize=12)\n",
        "plt.ylabel('Frequency', fontsize=12)\n",
        "\n",
        "#Show the plot\n",
        "plt.tight_layout()\n",
        "plt.show()"
      ],
      "metadata": {
        "id": "o58-TEIhveiU"
      },
      "execution_count": null,
      "outputs": []
    },
    {
      "cell_type": "markdown",
      "source": [
        "##### 1. Why did you pick the specific chart?"
      ],
      "metadata": {
        "id": "EXh0U9oCveiU"
      }
    },
    {
      "cell_type": "markdown",
      "source": [
        "I chose a histogram with a KDE curve to visualize the distribution of sentiment polarity scores. This chart effectively reveals how user sentiments are spread across the scale from negative to positive and shows the density of scores across the entire range.\n",
        "\n"
      ],
      "metadata": {
        "id": "eMmPjTByveiU"
      }
    },
    {
      "cell_type": "markdown",
      "source": [
        "##### 2. What is/are the insight(s) found from the chart?"
      ],
      "metadata": {
        "id": "22aHeOlLveiV"
      }
    },
    {
      "cell_type": "markdown",
      "source": [
        "The chart shows that most sentiment polarity scores are centered around 0, indicating neutral sentiment. There is also a noticeable rightward skew, suggesting that users are more likely to leave slightly positive reviews rather than strongly negative ones.\n",
        "\n"
      ],
      "metadata": {
        "id": "uPQ8RGwHveiV"
      }
    },
    {
      "cell_type": "markdown",
      "source": [
        "##### 3. Will the gained insights help creating a positive business impact?Are there any insights that lead to negative growth? Justify with specific reason."
      ],
      "metadata": {
        "id": "lUbTw8MiC225"
      }
    },
    {
      "cell_type": "markdown",
      "source": [
        "* Yes, these insights are valuable. Understanding that most user feedback is neutral to slightly positive can guide app developers to focus on improving specific areas to push user sentiment toward stronger positivity.\n",
        "* Negative Growth Insight: If developers ignore this trend and fail to act on user feedback that hovers around neutrality, it may lead to dissatisfaction over time and potentially harm app reputation.\n",
        "\n"
      ],
      "metadata": {
        "id": "glPgpXX-C4li"
      }
    },
    {
      "cell_type": "markdown",
      "source": [
        "18. **What is the distribution of sentiment subjectivity scores?**"
      ],
      "metadata": {
        "id": "6221eN6YCBuC"
      }
    },
    {
      "cell_type": "code",
      "source": [
        "# Chart - 18 visualization code\n",
        "#Chart: Histogram or KDE plot.\n",
        "\n",
        "# Set the plot size and style\n",
        "plt.figure(figsize=(10,6))\n",
        "sns.histplot(data=df2, x='Sentiment_Subjectivity',bins=15,kde=True, color='teal') #create histogram\n",
        "\n",
        "#Add title and labels\n",
        "plt.title('Distribution of Sentiment Subjectivity Scores',fontsize=14)\n",
        "plt.xlabel('Sentiment Subjectivity',fontsize=12)\n",
        "plt.ylabel('Frequency', fontsize=12)\n",
        "\n",
        "#Show the plot\n",
        "plt.tight_layout()\n",
        "plt.show()\n"
      ],
      "metadata": {
        "id": "J-m4k--OCGE_"
      },
      "execution_count": null,
      "outputs": []
    },
    {
      "cell_type": "markdown",
      "source": [
        "##### 1. Why did you pick the specific chart?"
      ],
      "metadata": {
        "id": "SPmgeumUCKLB"
      }
    },
    {
      "cell_type": "markdown",
      "source": [
        "A histogram with a KDE curve is ideal for visualizing the distribution of a continuous variable like Sentiment Subjectivity, which ranges from 0 to 1. It helps understand whether user reviews are more factual (objective) or opinion-based (subjective).\n",
        "\n"
      ],
      "metadata": {
        "id": "ACUSM_4DCK-H"
      }
    },
    {
      "cell_type": "markdown",
      "source": [
        "##### 2. What is/are the insight(s) found from the chart?"
      ],
      "metadata": {
        "id": "WfMv0PD4CLLQ"
      }
    },
    {
      "cell_type": "markdown",
      "source": [
        "* The subjectivity scores are spread across the range, with peaks near 0.0 and around 0.5–0.6, indicating a mix of objective and semi-subjective reviews.\n",
        "* Very few reviews have extremely high subjectivity (near 1.0), suggesting that most feedback includes some factual information."
      ],
      "metadata": {
        "id": "cbEMl9vCCLS2"
      }
    },
    {
      "cell_type": "markdown",
      "source": [
        "##### 3. Will the gained insights help creating a positive business impact?Are there any insights that lead to negative growth? Justify with specific reason."
      ],
      "metadata": {
        "id": "YI3nQDXnCLbv"
      }
    },
    {
      "cell_type": "markdown",
      "source": [
        "(i) Yes. Knowing that users often share semi-subjective or factual reviews helps businesses:\n",
        "* Prioritize features or improvements based on constructive feedback.\n",
        "* Detect genuine feedback vs. overly emotional or vague responses.\n",
        "\n",
        "(ii) A very high number of extremely subjective reviews could signal emotional bias, which may reduce the reliability of user feedback. However, in this case, such reviews are limited."
      ],
      "metadata": {
        "id": "zK8ZNVFzCLhf"
      }
    },
    {
      "cell_type": "markdown",
      "source": [
        "## **Bivariate**"
      ],
      "metadata": {
        "id": "1kZx4LyjEPWr"
      }
    },
    {
      "cell_type": "markdown",
      "source": [
        "19. **Is there a relationship between sentiment polarity and subjectivity?**"
      ],
      "metadata": {
        "id": "pgRUrwO8DjKT"
      }
    },
    {
      "cell_type": "code",
      "source": [
        "# Chart - 19 visualization code\n",
        "#Chart: Scatter plot\n",
        "\n",
        "# Set the plot size and style\n",
        "plt.figure(figsize=(10, 6))\n",
        "sns.scatterplot(data=df2, x='Sentiment_Polarity', y='Sentiment_Subjectivity', alpha=0.5, color='purple') #create scatterplot\n",
        "\n",
        "#Add title and labels\n",
        "plt.title('Sentiment Polarity vs Subjectivity', fontsize=14)\n",
        "plt.xlabel('Sentiment Polarity', fontsize=12)\n",
        "plt.ylabel('Sentiment Subjectivity', fontsize=12)\n",
        "\n",
        "#Show the plot\n",
        "plt.grid(True)\n",
        "plt.tight_layout()\n",
        "plt.show()\n",
        "\n"
      ],
      "metadata": {
        "id": "zxiJw54SDoAE"
      },
      "execution_count": null,
      "outputs": []
    },
    {
      "cell_type": "markdown",
      "source": [
        "##### 1. Why did you pick the specific chart?"
      ],
      "metadata": {
        "id": "8vOkkhYUDsMv"
      }
    },
    {
      "cell_type": "markdown",
      "source": [
        "I chose a scatter plot because it is ideal for visualizing the relationship between two continuous numeric variables—in this case, Sentiment Polarity and Sentiment Subjectivity. It allows us to observe clustering patterns, potential correlations, or spread across the ranges."
      ],
      "metadata": {
        "id": "uuD4-axfDv8F"
      }
    },
    {
      "cell_type": "markdown",
      "source": [
        "2. What is/are the insight(s) found from the chart?"
      ],
      "metadata": {
        "id": "w1Etrs7dDwH7"
      }
    },
    {
      "cell_type": "markdown",
      "source": [
        "* There is no strong linear relationship between sentiment polarity and subjectivity.\n",
        "* Most data points are clustered around neutral polarity (0) and moderate subjectivity (0.4 to 0.6).\n",
        "* Extreme values of polarity (close to -1 or 1) are less frequent and tend to have a wide range of subjectivity."
      ],
      "metadata": {
        "id": "ukEWzbUPDzbL"
      }
    },
    {
      "cell_type": "markdown",
      "source": [
        "3. Will the gained insights help creating a positive business impact?Are there any insights that lead to negative growth? Justify with specific reason."
      ],
      "metadata": {
        "id": "AKfyLhJNDzkj"
      }
    },
    {
      "cell_type": "markdown",
      "source": [
        "* Positive Impact: Understanding that most user reviews are moderately subjective and emotionally balanced can guide businesses in crafting more relatable and emotionally resonant content.\n",
        "* No Negative Impact Identified: However, the lack of a strong correlation implies that improving subjectivity in communication may not directly increase positive polarity. So, efforts should be focused on overall user satisfaction rather than tone manipulation alone.\n",
        "\n"
      ],
      "metadata": {
        "id": "T0kEWyf1D3BT"
      }
    },
    {
      "cell_type": "markdown",
      "source": [
        "20. **What are the top 10 apps with highest average sentiment polarity?**"
      ],
      "metadata": {
        "id": "CHaJiZBhD4DZ"
      }
    },
    {
      "cell_type": "code",
      "source": [
        "# Chart - 20 visualization code\n",
        "#Bar Chart\n",
        "\n",
        "#Group by 'App' and calculate the average sentiment polarity\n",
        "top_sentiment_apps = df2.groupby('App')['Sentiment_Polarity'].mean().sort_values(ascending=False).head(10)\n",
        "\n",
        "# Set the plot size and style\n",
        "plt.figure(figsize=(10, 6))\n",
        "sns.barplot(x=top_sentiment_apps.values, y=top_sentiment_apps.index, hue=top_sentiment_apps.index, palette='mako',legend=False) #create bar chart\n",
        "\n",
        "#Add labels and title\n",
        "plt.xlabel('Average Sentiment Polarity', fontsize=12)\n",
        "plt.ylabel('App Name', fontsize=12)\n",
        "plt.title('Top 10 Apps with Highest Average Sentiment Polarity', fontsize=14)\n",
        "\n",
        "#Show the plot\n",
        "plt.tight_layout()\n",
        "plt.show()"
      ],
      "metadata": {
        "id": "mplh-Gw8D8Y1",
        "collapsed": true
      },
      "execution_count": null,
      "outputs": []
    },
    {
      "cell_type": "markdown",
      "source": [
        "##### 1. Why did you pick the specific chart?"
      ],
      "metadata": {
        "id": "rhCzjbLJD_hd"
      }
    },
    {
      "cell_type": "markdown",
      "source": [
        "A horizontal bar chart was selected for its clarity in comparing average sentiment polarity across apps and its ability to display long app names effectively."
      ],
      "metadata": {
        "id": "Wm67BeXpEEdi"
      }
    },
    {
      "cell_type": "markdown",
      "source": [
        "2. What is/are the insight(s) found from the chart?\n"
      ],
      "metadata": {
        "id": "ApsTlNTiEEnE"
      }
    },
    {
      "cell_type": "markdown",
      "source": [
        "The chart shows that \"Bed Time Fan - White Noise Sleep Sounds\" has the highest average sentiment polarity. All top 10 apps have strong positive user sentiment, indicating high user satisfaction across various categories."
      ],
      "metadata": {
        "id": "gAl-91DpEJCZ"
      }
    },
    {
      "cell_type": "markdown",
      "source": [
        "3. Will the gained insights help creating a positive business impact?\n",
        "Are there any insights that lead to negative growth? Justify with specific reason."
      ],
      "metadata": {
        "id": "LyL51u_nEJL_"
      }
    },
    {
      "cell_type": "markdown",
      "source": [
        "Yes, these insights can drive positive impact by identifying top-performing apps for promotion or benchmarking. There are no direct signs of negative growth, but consistently low-performing categories (not shown) could indicate areas needing improvement."
      ],
      "metadata": {
        "id": "bvkEbZA1EM4Q"
      }
    },
    {
      "cell_type": "markdown",
      "source": [
        "## **Multivariate**"
      ],
      "metadata": {
        "id": "glpslpP5QFpy"
      }
    },
    {
      "cell_type": "markdown",
      "source": [
        "21. **How do sentiment polarity, subjectivity, and review count correlate across apps?**"
      ],
      "metadata": {
        "id": "RTZ6qzxpPbts"
      }
    },
    {
      "cell_type": "code",
      "source": [
        "# Chart - 21 visualization code\n",
        "#Heatmap\n",
        "\n",
        "# Group data by 'App' and calculate mean polarity, mean subjectivity, and review count\n",
        "app_sentiment_summary = df2.groupby('App').agg({\n",
        "    'Sentiment_Polarity': 'mean',\n",
        "    'Sentiment_Subjectivity': 'mean',\n",
        "    'Translated_Review': 'count'  # Count of reviews per app\n",
        "}).rename(columns={'Translated_Review': 'Review_Count'})\n",
        "\n",
        "# Compute correlation matrix\n",
        "correlation_matrix = app_sentiment_summary.corr()\n",
        "\n",
        "# Plot heatmap\n",
        "plt.figure(figsize=(8, 6))\n",
        "sns.heatmap(correlation_matrix, annot=True, cmap='Blues', fmt='.2f', linewidths=0.5)\n",
        "plt.title('Correlation Between Polarity, Subjectivity, and Review Count', fontsize=14) #add title\n",
        "plt.show() #show the plot\n"
      ],
      "metadata": {
        "id": "nzhzxByhPcVM"
      },
      "execution_count": null,
      "outputs": []
    },
    {
      "cell_type": "markdown",
      "source": [
        "##### 1. Why did you pick the specific chart?"
      ],
      "metadata": {
        "id": "xvoLYVrHPcvi"
      }
    },
    {
      "cell_type": "markdown",
      "source": [
        "A heatmap effectively visualizes correlations between numerical variables. It clearly shows relationships between sentiment polarity, subjectivity, and review count across apps in a compact, interpretable format.\n",
        "\n"
      ],
      "metadata": {
        "id": "v-8hHKt9Pc6s"
      }
    },
    {
      "cell_type": "markdown",
      "source": [
        "2. What is/are the insight(s) found from the chart?\n"
      ],
      "metadata": {
        "id": "RrY9K0nTPdBC"
      }
    },
    {
      "cell_type": "markdown",
      "source": [
        "* Polarity and Subjectivity show a moderate positive correlation (0.29).\n",
        "* Polarity and Review Count show a weak negative correlation (-0.10).\n",
        "* Subjectivity and Review Count have negligible correlation (0.05).\n",
        "\n"
      ],
      "metadata": {
        "id": "hwEq_GIwPdHB"
      }
    },
    {
      "cell_type": "markdown",
      "source": [
        "3. Will the gained insights help creating a positive business impact?\n",
        "Are there any insights that lead to negative growth? Justify with specific reason."
      ],
      "metadata": {
        "id": "f0c1FL7MPdOC"
      }
    },
    {
      "cell_type": "markdown",
      "source": [
        "(i) Yes, the insights can support positive business impact. The moderate positive correlation between subjectivity and polarity suggests that encouraging users to write more detailed and expressive reviews may lead to more positive sentiment, enhancing app reputation.\n",
        "\n",
        "(ii)However, the weak negative correlation between review count and polarity may indicate a risk of declining sentiment as an app gains popularity. This could result from increased visibility attracting more critical feedback. Businesses should proactively manage user experience and feedback channels to mitigate this risk."
      ],
      "metadata": {
        "id": "PLRas70W0ioJ"
      }
    },
    {
      "cell_type": "markdown",
      "source": [
        "22. **How are sentiment polarity and subjectivity related across different sentiment types?**"
      ],
      "metadata": {
        "id": "5W121IKrPdTW"
      }
    },
    {
      "cell_type": "code",
      "source": [
        "# Chart - 22 visualization code\n",
        "#Pairplot\n",
        "\n",
        "# Create a pairplot for polarity and subjectivity, grouped by sentiment\n",
        "sns.pairplot(df2, vars=['Sentiment_Polarity', 'Sentiment_Subjectivity'], hue='Sentiment',\n",
        "             palette={'Positive': 'green', 'Neutral': 'orange', 'Negative': 'red'},\n",
        "             diag_kind='kde', plot_kws={'alpha': 0.6})\n",
        "\n",
        "# Add a title\n",
        "plt.suptitle('Relationship Between Polarity and Subjectivity Across Sentiments', y=1.02, fontsize=14)\n",
        "plt.show()"
      ],
      "metadata": {
        "id": "KHMs1upNPyfX"
      },
      "execution_count": null,
      "outputs": []
    },
    {
      "cell_type": "markdown",
      "source": [
        "##### 1. Why did you pick the specific chart?"
      ],
      "metadata": {
        "id": "ZffMyUItPzvr"
      }
    },
    {
      "cell_type": "markdown",
      "source": [
        "The pairplot is an excellent choice to explore relationships between numerical variables (Sentiment_Polarity and Sentiment_Subjectivity), categorized by sentiment types (Positive, Neutral, Negative). It highlights trends, overlaps, and clusters while providing individual distributions for both variables."
      ],
      "metadata": {
        "id": "22aa5tTOPzzJ"
      }
    },
    {
      "cell_type": "markdown",
      "source": [
        "2. What is/are the insight(s) found from the chart?\n",
        "\n"
      ],
      "metadata": {
        "id": "I7QJdxRIPz83"
      }
    },
    {
      "cell_type": "markdown",
      "source": [
        "**Positive Sentiments (Green):**\n",
        "* Strongly concentrated in the upper-right quadrant, indicating high polarity (positive tone) and varying levels of subjectivity.\n",
        "* Positive reviews tend to have a wider range of subjectivity compared to others.\n",
        "\n",
        "**Neutral Sentiments (Orange):**\n",
        "* Clustered around 0 polarity, as expected.\n",
        "* Subjectivity for neutral reviews is concentrated around mid-range (0.4 to 0.6).\n",
        "\n",
        "**Negative Sentiments (Red):**\n",
        "* Concentrated in the lower-left quadrant, showing negative polarity and a broader subjectivity range.\n",
        "* Many negative reviews are closer to 0 subjectivity, suggesting they may be more objective.\n",
        "\n",
        "**Overlap Between Sentiments:**\n",
        "* Some overlap is observed near 0 polarity, where positive, neutral, and negative sentiments mix, indicating ambiguity in tone.\n",
        "\n"
      ],
      "metadata": {
        "id": "PYCnPwTFP0CD"
      }
    },
    {
      "cell_type": "markdown",
      "source": [
        "3. Will the gained insights help creating a positive business impact?\n",
        "Are there any insights that lead to negative growth? Justify with specific reason."
      ],
      "metadata": {
        "id": "6NKQjVSqP0KK"
      }
    },
    {
      "cell_type": "markdown",
      "source": [
        "(i) Yes, the insights can drive positive business impact by:\n",
        "1. Improving Sentiment Analysis: Fine-tuning models for better classification of reviews.\n",
        "2. Prioritizing Feedback: Addressing highly subjective negative reviews to enhance user satisfaction and leveraging positive feedback for engagement strategies.\n",
        "3. Refining Neutral Sentiments: Identifying mid-subjectivity neutral reviews to pinpoint areas for improvement.\n",
        "\n",
        "(ii) No significant risks were identified. However:\n",
        "* Polarity Overlap: Misclassification of reviews near 0 polarity could lead to incorrect decisions.\n",
        "* Subjective Negative Reviews: Ignoring these may harm user retention and brand reputation.\n"
      ],
      "metadata": {
        "id": "YQsgpEGXP0P6"
      }
    },
    {
      "cell_type": "markdown",
      "source": [
        "## **Solution to Business Objective**"
      ],
      "metadata": {
        "id": "JcMwzZxoAimU"
      }
    },
    {
      "cell_type": "markdown",
      "source": [
        "#### What do you suggest the client to achieve Business Objective ?Explain Briefly."
      ],
      "metadata": {
        "id": "8G2x9gOozGDZ"
      }
    },
    {
      "cell_type": "markdown",
      "source": [
        "To achieve business objectives, I recommend the following:\n",
        "\n",
        "1. **Enhance App Quality:**\n",
        "\n",
        "* Address issues in apps with ratings below 4.0 by analyzing user feedback and implementing improvements in design, performance, or features.\n",
        "\n",
        "2. **Target High-Demand Categories:**\n",
        "\n",
        "* Focus on \"COMMUNICATION,\" \"GAME,\" and \"FAMILY\" categories for user acquisition while innovating in niche areas with less competition.\n",
        "\n",
        "3. **Optimize User Engagement:**\n",
        "\n",
        "* Encourage reviews by prompting satisfied users and addressing negative reviews promptly. Leverage insights from polarity and subjectivity scores to refine app descriptions and updates.\n",
        "\n",
        "4. **Adopt a Freemium Model:**\n",
        "\n",
        "* Since 92% of apps are free, a freemium model (free app with in-app purchases) can balance user demand and revenue generation.\n",
        "\n",
        "5. **Monitor and Update Regularly:**\n",
        "\n",
        "* Maintain competitive relevance by frequently updating apps, as consistent updates correlate with higher user retention."
      ],
      "metadata": {
        "id": "pASKb0qOza21"
      }
    },
    {
      "cell_type": "markdown",
      "source": [
        "# **Conclusion**"
      ],
      "metadata": {
        "id": "gCX9965dhzqZ"
      }
    },
    {
      "cell_type": "markdown",
      "source": [
        "This analysis of Play Store app data and user reviews successfully uncovers the key drivers of app success and provides actionable insights for developers in a competitive market. The findings emphasize the importance of maintaining high ratings, optimizing app features and size, and addressing user feedback. Additionally, prioritizing data-driven decision-making, strategically selecting app categories, and implementing effective monetization strategies can enhance app visibility, attract a larger user base, and achieve sustainable growth. By focusing on app quality, user engagement, and market awareness, developers can ensure long-term success within the Play Store ecosystem.\n",
        "\n"
      ],
      "metadata": {
        "id": "D7vj50Dz1wJJ"
      }
    }
  ]
}